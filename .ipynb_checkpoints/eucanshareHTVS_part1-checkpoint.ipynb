{
 "cells": [
  {
   "cell_type": "markdown",
   "metadata": {},
   "source": [
    "# EUCANSHARE workflow\n",
    "\n",
    "## Protein MD Setup tutorial using BioExcel Building Blocks (biobb)\n",
    "**Based on the official GROMACS tutorial:** [http://www.mdtutorials.com/gmx/lysozyme/index.html](http://www.mdtutorials.com/gmx/lysozyme/index.html)\n",
    "***\n",
    "This tutorial aims to illustrate the process of **setting up a simulation system** containing a **protein**, step by step, using the **BioExcel Building Blocks library (biobb)**. The particular example used is the **Lysozyme** protein (PDB code 1AKI). \n",
    "***\n",
    "\n",
    "## Settings\n",
    "\n",
    "### Biobb modules used\n",
    "\n",
    " - [biobb_io](https://github.com/bioexcel/biobb_io): Tools to fetch biomolecular data from public databases.\n",
    " - [biobb_model](https://github.com/bioexcel/biobb_model): Tools to model macromolecular structures.\n",
    " - [biobb_md](https://github.com/bioexcel/biobb_md): Tools to setup and run Molecular Dynamics simulations.\n",
    " - [biobb_analysis](https://github.com/bioexcel/biobb_analysis): Tools to analyse Molecular Dynamics trajectories.\n",
    " \n",
    "### Auxiliar libraries used\n",
    "\n",
    " - [nb_conda_kernels](https://github.com/Anaconda-Platform/nb_conda_kernels): Enables a Jupyter Notebook or JupyterLab application in one conda environment to access kernels for Python, R, and other languages found in other environments.\n",
    " - [nglview](http://nglviewer.org/#nglview): Jupyter/IPython widget to interactively view molecular structures and trajectories in notebooks.\n",
    " - [ipywidgets](https://github.com/jupyter-widgets/ipywidgets): Interactive HTML widgets for Jupyter notebooks and the IPython kernel.\n",
    " - [plotly](https://plot.ly/python/offline/): Python interactive graphing library integrated in Jupyter notebooks.\n",
    " - [simpletraj](https://github.com/arose/simpletraj): Lightweight coordinate-only trajectory reader based on code from GROMACS, MDAnalysis and VMD.\n",
    "\n",
    "### Conda Installation and Launch\n",
    "\n",
    "```console\n",
    "git clone https://github.com/bioexcel/biobb_wf_md_setup.git\n",
    "cd biobb_wf_md_setup\n",
    "conda env create -f conda_env/environment.yml\n",
    "conda activate biobb_MDsetup_tutorial\n",
    "jupyter-nbextension enable --py --user widgetsnbextension\n",
    "jupyter-nbextension enable --py --user nglview\n",
    "jupyter-notebook biobb_wf_md_setup/notebooks/biobb_MDsetup_tutorial.ipynb\n",
    "  ``` \n",
    "\n",
    "***\n",
    "## Pipeline steps\n",
    " 1. [Input Parameters](#input)\n",
    " 2. [Fetching PDB Structure](#fetch)\n",
    " 3. [Fix Protein Structure](#fix)\n",
    " 4. [Create Protein System Topology](#top)\n",
    " 5. [Create Solvent Box](#box)\n",
    " 6. [Fill the Box with Water Molecules](#water)\n",
    " 7. [Adding Ions](#ions)\n",
    " 8. [Energetically Minimize the System](#min)\n",
    " 9. [Equilibrate the System (NVT)](#nvt)\n",
    " 10. [Equilibrate the System (NPT)](#npt)\n",
    " 11. [Free Molecular Dynamics Simulation](#free)\n",
    " 12. [Post-processing and Visualizing Resulting 3D Trajectory](#post)\n",
    " 13. [Output Files](#output)\n",
    " 14. [Questions & Comments](#questions)\n",
    " \n",
    "***\n",
    "<img src=\"https://bioexcel.eu/wp-content/uploads/2019/04/Bioexcell_logo_1080px_transp.png\" alt=\"Bioexcel2 logo\"\n",
    "\ttitle=\"Bioexcel2 logo\" width=\"400\" />\n",
    "***\n"
   ]
  },
  {
   "cell_type": "markdown",
   "metadata": {},
   "source": [
    "<a id=\"input\"></a>\n",
    "## Input parameters\n",
    "**Input parameters** needed:\n",
    " - **pdbCode**: PDB code of the protein structure (e.g. 1AKI)"
   ]
  },
  {
   "cell_type": "code",
   "execution_count": 3,
   "metadata": {},
   "outputs": [],
   "source": [
    "import nglview\n",
    "import ipywidgets\n",
    "\n",
    "pdbCode = \"1AKI\""
   ]
  },
  {
   "cell_type": "markdown",
   "metadata": {},
   "source": [
    "<a id=\"fetch\"></a>\n",
    "***\n",
    "## Fetching PDB structure\n",
    "Downloading **PDB structure** with the **protein molecule** from the RCSB PDB database.<br>\n",
    "Alternatively, a **PDB file** can be used as starting structure. <br>\n",
    "***\n",
    "**Building Blocks** used:\n",
    " - [Pdb](https://biobb-io.readthedocs.io/en/latest/api.html#module-api.pdb) from **biobb_io.api.pdb**\n",
    "***"
   ]
  },
  {
   "cell_type": "code",
   "execution_count": 2,
   "metadata": {},
   "outputs": [
    {
     "name": "stdout",
     "output_type": "stream",
     "text": [
      "2022-07-19 12:30:03,571 [MainThread  ] [INFO ]  Downloading: 1aki from: https://www.ebi.ac.uk/pdbe/entry-files/download/pdb1aki.ent\n"
     ]
    },
    {
     "name": "stderr",
     "output_type": "stream",
     "text": [
      "/home/pablo/anaconda3/envs/biobb_MDsetup_tutorial/lib/python3.7/site-packages/urllib3/connectionpool.py:1052: InsecureRequestWarning: Unverified HTTPS request is being made to host 'www.ebi.ac.uk'. Adding certificate verification is strongly advised. See: https://urllib3.readthedocs.io/en/1.26.x/advanced-usage.html#ssl-warnings\n",
      "  InsecureRequestWarning,\n"
     ]
    },
    {
     "name": "stdout",
     "output_type": "stream",
     "text": [
      "2022-07-19 12:30:05,118 [MainThread  ] [INFO ]  Writting pdb to: 1AKI.pdb\n",
      "2022-07-19 12:30:05,121 [MainThread  ] [INFO ]  Filtering lines NOT starting with one of these words: ['ATOM', 'MODEL', 'ENDMDL']\n"
     ]
    },
    {
     "data": {
      "text/plain": [
       "0"
      ]
     },
     "execution_count": 2,
     "metadata": {},
     "output_type": "execute_result"
    }
   ],
   "source": [
    "# Downloading desired PDB file \n",
    "# Import module\n",
    "from biobb_io.api.pdb import pdb\n",
    "\n",
    "# Create properties dict and inputs/outputs\n",
    "downloaded_pdb = pdbCode+'.pdb'\n",
    "prop = {\n",
    "    'pdb_code': pdbCode\n",
    "}\n",
    "\n",
    "#Create and launch bb\n",
    "pdb(output_pdb_path=downloaded_pdb,\n",
    "    properties=prop)"
   ]
  },
  {
   "cell_type": "markdown",
   "metadata": {},
   "source": [
    "<a id=\"vis3D\"></a>\n",
    "### Visualizing 3D structure\n",
    "Visualizing the downloaded/given **PDB structure** using **NGL**:    "
   ]
  },
  {
   "cell_type": "code",
   "execution_count": 4,
   "metadata": {
    "scrolled": true
   },
   "outputs": [
    {
     "data": {
      "application/vnd.jupyter.widget-view+json": {
       "model_id": "bdf919720f834eae85666f425aae7865",
       "version_major": 2,
       "version_minor": 0
      },
      "text/plain": [
       "NGLWidget()"
      ]
     },
     "metadata": {},
     "output_type": "display_data"
    }
   ],
   "source": [
    "# Show protein\n",
    "view = nglview.show_structure_file(downloaded_pdb)\n",
    "view.add_representation(repr_type='ball+stick', selection='all')\n",
    "view._remote_call('setSize', target='Widget', args=['','600px'])\n",
    "view"
   ]
  },
  {
   "cell_type": "markdown",
   "metadata": {},
   "source": [
    "<a id=\"fix\"></a>\n",
    "***\n",
    "## Fix protein structure\n",
    "**Checking** and **fixing** (if needed) the protein structure:<br>\n",
    "- **Modeling** **missing side-chain atoms**, modifying incorrect **amide assignments**, choosing **alternative locations**.<br>\n",
    "- **Checking** for missing **backbone atoms**, **heteroatoms**, **modified residues** and possible **atomic clashes**.\n",
    "\n",
    "***\n",
    "**Building Blocks** used:\n",
    " - [FixSideChain](https://biobb-model.readthedocs.io/en/latest/model.html#module-model.fix_side_chain) from **biobb_model.model.fix_side_chain**\n",
    "***"
   ]
  },
  {
   "cell_type": "code",
   "execution_count": 5,
   "metadata": {},
   "outputs": [
    {
     "name": "stdout",
     "output_type": "stream",
     "text": [
      "2022-07-19 12:36:18,692 [MainThread  ] [INFO ]  check_structure -i 1AKI.pdb -o 1AKI_fixed.pdb --force_save fixside --fix ALL\n",
      "\n",
      "2022-07-19 12:36:18,693 [MainThread  ] [INFO ]  Exit code 0\n",
      "\n",
      "2022-07-19 12:36:18,694 [MainThread  ] [INFO ]  ===============================================================================\n",
      "=                   BioBB structure checking utility v3.8.1                   =\n",
      "=                 A. Hospital, P. Andrio, J.L. Gelpi 2018-21                  =\n",
      "===============================================================================\n",
      "\n",
      "Warning: sequence features only available in mmCIF format or with external fasta input\n",
      "Structure 1AKI.pdb loaded\n",
      " Title: \n",
      " Experimental method: unknown\n",
      " Resolution (A): N.A.\n",
      "\n",
      " Num. models: 1\n",
      " Num. chains: 1 (A: Protein)\n",
      " Num. residues:  129\n",
      " Num. residues with ins. codes:  0\n",
      " Num. HETATM residues:  0\n",
      " Num. ligands or modified residues:  0\n",
      " Num. water mol.:  0\n",
      " Num. atoms:  1001\n",
      "\n",
      "Running fixside. Options: --fix ALL\n",
      "No residues with missing or unknown side chain atoms found\n",
      "Structure not modified, saving due to --force_save option\n",
      "Final Num. models: 1\n",
      "Final Num. chains: 1 (A: Protein)\n",
      "Final Num. residues:  129\n",
      "Final Num. residues with ins. codes:  0\n",
      "Final Num. HETATM residues:  0\n",
      "Final Num. ligands or modified residues:  0\n",
      "Final Num. water mol.:  0\n",
      "Final Num. atoms:  1001\n",
      "Structure saved on 1AKI_fixed.pdb\n",
      "\n",
      "2022-07-19 12:36:18,695 [MainThread  ] [INFO ]  Removed: []\n"
     ]
    },
    {
     "data": {
      "text/plain": [
       "0"
      ]
     },
     "execution_count": 5,
     "metadata": {},
     "output_type": "execute_result"
    }
   ],
   "source": [
    "# Check & Fix PDB\n",
    "# Import module\n",
    "from biobb_model.model.fix_side_chain import fix_side_chain\n",
    "\n",
    "# Create prop dict and inputs/outputs\n",
    "fixed_pdb = pdbCode + '_fixed.pdb'\n",
    "\n",
    "# Create and launch bb\n",
    "fix_side_chain(input_pdb_path=downloaded_pdb, \n",
    "             output_pdb_path=fixed_pdb)"
   ]
  },
  {
   "cell_type": "markdown",
   "metadata": {},
   "source": [
    "### Visualizing 3D structure\n",
    "Visualizing the fixed **PDB structure** using **NGL**. In this particular example, the checking step didn't find any issue to be solved, so there is no difference between the original structure and the fixed one.   "
   ]
  },
  {
   "cell_type": "code",
   "execution_count": 6,
   "metadata": {
    "scrolled": true
   },
   "outputs": [
    {
     "data": {
      "application/vnd.jupyter.widget-view+json": {
       "model_id": "b46f50472818446d97cda40fd33afa9e",
       "version_major": 2,
       "version_minor": 0
      },
      "text/plain": [
       "NGLWidget()"
      ]
     },
     "metadata": {},
     "output_type": "display_data"
    }
   ],
   "source": [
    "# Show protein\n",
    "view = nglview.show_structure_file(fixed_pdb)\n",
    "view.add_representation(repr_type='ball+stick', selection='all')\n",
    "view._remote_call('setSize', target='Widget', args=['','600px'])\n",
    "view.camera='orthographic'\n",
    "view"
   ]
  },
  {
   "cell_type": "markdown",
   "metadata": {},
   "source": [
    "<a id=\"top\"></a>\n",
    "***\n",
    "## Create protein system topology\n",
    "**Building GROMACS topology** corresponding to the protein structure.<br>\n",
    "Force field used in this tutorial is [**amber99sb-ildn**](https://dx.doi.org/10.1002%2Fprot.22711): AMBER **parm99** force field with **corrections on backbone** (sb) and **side-chain torsion potentials** (ildn). Water molecules type used in this tutorial is [**spc/e**](https://pubs.acs.org/doi/abs/10.1021/j100308a038).<br>\n",
    "Adding **hydrogen atoms** if missing. Automatically identifying **disulfide bridges**. <br>\n",
    "\n",
    "Generating two output files: \n",
    "- **GROMACS structure** (gro file)\n",
    "- **GROMACS topology** ZIP compressed file containing:\n",
    "    - *GROMACS topology top file* (top file)\n",
    "    - *GROMACS position restraint file/s* (itp file/s)\n",
    "***\n",
    "**Building Blocks** used:\n",
    " - [Pdb2gmx](https://biobb-md.readthedocs.io/en/latest/gromacs.html#module-gromacs.pdb2gmx) from **biobb_md.gromacs.pdb2gmx**\n",
    "***"
   ]
  },
  {
   "cell_type": "code",
   "execution_count": 8,
   "metadata": {
    "scrolled": false
   },
   "outputs": [
    {
     "name": "stdout",
     "output_type": "stream",
     "text": [
      "2022-07-19 12:42:16,154 [MainThread  ] [INFO ]  GROMACS Pdb2gmx 20191 version detected\n",
      "2022-07-19 12:42:16,155 [MainThread  ] [INFO ]  Not using any container\n",
      "2022-07-19 12:42:16,477 [MainThread  ] [INFO ]  gmx -nobackup -nocopyright pdb2gmx -f 1AKI_fixed.pdb -o 1AKI_pdb2gmx.gro -p p2g.top -water spce -ff amber99sb-ildn -i posre.itp\n",
      "\n",
      "2022-07-19 12:42:16,478 [MainThread  ] [INFO ]  Exit code 0\n",
      "\n",
      "2022-07-19 12:42:16,479 [MainThread  ] [INFO ]  \n",
      "Using the Amber99sb-ildn force field in directory amber99sb-ildn.ff\n",
      "\n",
      "going to rename amber99sb-ildn.ff/aminoacids.r2b\n",
      "going to rename amber99sb-ildn.ff/dna.r2b\n",
      "going to rename amber99sb-ildn.ff/rna.r2b\n",
      "Reading 1AKI_fixed.pdb...\n",
      "Read '', 1001 atoms\n",
      "Analyzing pdb file\n",
      "Splitting chemical chains based on TER records or chain id changing.\n",
      "There are 1 chains and 0 blocks of water and 129 residues with 1001 atoms\n",
      "\n",
      "  chain  #res #atoms\n",
      "  1 'A'   129   1001  \n",
      "\n",
      "Reading residue database... (Amber99sb-ildn)\n",
      "Processing chain 1 'A' (1001 atoms, 129 residues)\n",
      "Identified residue LYS1 as a starting terminus.\n",
      "Identified residue LEU129 as a ending terminus.\n",
      "Checking for duplicate atoms....\n",
      "Generating any missing hydrogen atoms and/or adding termini.\n",
      "Now there are 129 residues with 1960 atoms\n",
      "\t\t--------- PLEASE NOTE ------------\n",
      "You have successfully generated a topology from: 1AKI_fixed.pdb.\n",
      "The Amber99sb-ildn force field and the spce water model are used.\n",
      "\t\t--------- ETON ESAELP ------------\n",
      "\n",
      "2022-07-19 12:42:16,479 [MainThread  ] [INFO ]                       :-) GROMACS - gmx pdb2gmx, 2019.1 (-:\n",
      "\n",
      "Executable:   /home/pablo/anaconda3/envs/biobb_MDsetup_tutorial/bin/gmx\n",
      "Data prefix:  /home/pablo/anaconda3/envs/biobb_MDsetup_tutorial\n",
      "Working dir:  /home/pablo/repos/biobb_wf_md_setup/biobb_wf_md_setup/notebooks\n",
      "Command line:\n",
      "  gmx -nobackup -nocopyright pdb2gmx -f 1AKI_fixed.pdb -o 1AKI_pdb2gmx.gro -p p2g.top -water spce -ff amber99sb-ildn -i posre.itp\n",
      "\n",
      "Opening force field file /home/pablo/anaconda3/envs/biobb_MDsetup_tutorial/share/gromacs/top/amber99sb-ildn.ff/aminoacids.r2b\n",
      "Opening force field file /home/pablo/anaconda3/envs/biobb_MDsetup_tutorial/share/gromacs/top/amber99sb-ildn.ff/dna.r2b\n",
      "Opening force field file /home/pablo/anaconda3/envs/biobb_MDsetup_tutorial/share/gromacs/top/amber99sb-ildn.ff/rna.r2b\n",
      "All occupancies are one\n",
      "Opening force field file /home/pablo/anaconda3/envs/biobb_MDsetup_tutorial/share/gromacs/top/amber99sb-ildn.ff/atomtypes.atp\n",
      "Atomtype 67\n",
      "Opening force field file /home/pablo/anaconda3/envs/biobb_MDsetup_tutorial/share/gromacs/top/amber99sb-ildn.ff/aminoacids.rtp\n",
      "Residue 93\n",
      "Sorting it all out...\n",
      "Opening force field file /home/pablo/anaconda3/envs/biobb_MDsetup_tutorial/share/gromacs/top/amber99sb-ildn.ff/dna.rtp\n",
      "Residue 109\n",
      "Sorting it all out...\n",
      "Opening force field file /home/pablo/anaconda3/envs/biobb_MDsetup_tutorial/share/gromacs/top/amber99sb-ildn.ff/rna.rtp\n",
      "Residue 125\n",
      "Sorting it all out...\n",
      "Opening force field file /home/pablo/anaconda3/envs/biobb_MDsetup_tutorial/share/gromacs/top/amber99sb-ildn.ff/aminoacids.hdb\n",
      "Opening force field file /home/pablo/anaconda3/envs/biobb_MDsetup_tutorial/share/gromacs/top/amber99sb-ildn.ff/dna.hdb\n",
      "Opening force field file /home/pablo/anaconda3/envs/biobb_MDsetup_tutorial/share/gromacs/top/amber99sb-ildn.ff/rna.hdb\n",
      "Opening force field file /home/pablo/anaconda3/envs/biobb_MDsetup_tutorial/share/gromacs/top/amber99sb-ildn.ff/aminoacids.n.tdb\n",
      "Opening force field file /home/pablo/anaconda3/envs/biobb_MDsetup_tutorial/share/gromacs/top/amber99sb-ildn.ff/aminoacids.c.tdb\n",
      "Analysing hydrogen-bonding network for automated assignment of histidine\n",
      " protonation. 213 donors and 184 acceptors were found.\n",
      "There are 255 hydrogen bonds\n",
      "Will use HISE for residue 15\n",
      "8 out of 8 lines of specbond.dat converted successfully\n",
      "Special Atom Distance matrix:\n",
      "                    CYS6   MET12   HIS15   CYS30   CYS64   CYS76   CYS80\n",
      "                    SG48    SD87  NE2118   SG238   SG513   SG601   SG630\n",
      "   MET12    SD87   1.166\n",
      "   HIS15  NE2118   1.776   1.019\n",
      "   CYS30   SG238   1.406   1.054   2.069\n",
      "   CYS64   SG513   2.835   1.794   1.789   2.241\n",
      "   CYS76   SG601   2.704   1.551   1.468   2.116   0.765\n",
      "   CYS80   SG630   2.959   1.951   1.916   2.391   0.199   0.944\n",
      "   CYS94   SG724   2.550   1.407   1.382   1.975   0.665   0.202   0.855\n",
      "  MET105   SD799   1.827   0.911   1.683   0.888   1.849   1.461   2.036\n",
      "  CYS115   SG889   1.576   1.084   2.078   0.200   2.111   1.989   2.262\n",
      "  CYS127   SG981   0.197   1.072   1.721   1.313   2.799   2.622   2.934\n",
      "                   CYS94  MET105  CYS115\n",
      "                   SG724   SD799   SG889\n",
      "  MET105   SD799   1.381\n",
      "  CYS115   SG889   1.853   0.790\n",
      "  CYS127   SG981   2.475   1.686   1.483\n",
      "Linking CYS-6 SG-48 and CYS-127 SG-981...\n",
      "Linking CYS-30 SG-238 and CYS-115 SG-889...\n",
      "Linking CYS-64 SG-513 and CYS-80 SG-630...\n",
      "Linking CYS-76 SG-601 and CYS-94 SG-724...\n",
      "Opening force field file /home/pablo/anaconda3/envs/biobb_MDsetup_tutorial/share/gromacs/top/amber99sb-ildn.ff/aminoacids.arn\n",
      "Opening force field file /home/pablo/anaconda3/envs/biobb_MDsetup_tutorial/share/gromacs/top/amber99sb-ildn.ff/dna.arn\n",
      "Opening force field file /home/pablo/anaconda3/envs/biobb_MDsetup_tutorial/share/gromacs/top/amber99sb-ildn.ff/rna.arn\n",
      "Making bonds...\n",
      "Number of bonds was 1985, now 1984\n",
      "Generating angles, dihedrals and pairs...\n",
      "Before cleaning: 5142 pairs\n",
      "Before cleaning: 5454 dihedrals\n",
      "Keeping all generated dihedrals\n",
      "Making cmap torsions...\n",
      "There are 5454 dihedrals,  426 impropers, 3547 angles\n",
      "          5106 pairs,     1984 bonds and     0 virtual sites\n",
      "Total mass 14313.332 a.m.u.\n",
      "Total charge 8.000 e\n",
      "Writing topology\n",
      "\n",
      "Writing coordinate file...\n",
      "\n",
      "GROMACS reminds you: \"We All Get the Flu, We All Get Aids\" (LIVE)\n",
      "\n",
      "\n",
      "2022-07-19 12:42:16,481 [MainThread  ] [INFO ]  Compressing topology to: 1AKI_pdb2gmx_top.zip\n",
      "2022-07-19 12:42:16,482 [MainThread  ] [INFO ]  Ignored file amber99sb-ildn.ff/forcefield.itp\n",
      "2022-07-19 12:42:16,490 [MainThread  ] [INFO ]  Ignored file amber99sb-ildn.ff/spce.itp\n",
      "2022-07-19 12:42:16,491 [MainThread  ] [INFO ]  Ignored file amber99sb-ildn.ff/ions.itp\n",
      "2022-07-19 12:42:16,494 [MainThread  ] [INFO ]  Adding:\n",
      "2022-07-19 12:42:16,495 [MainThread  ] [INFO ]  ['p2g.top', 'posre.itp']\n",
      "2022-07-19 12:42:16,500 [MainThread  ] [INFO ]  to: /home/pablo/repos/biobb_wf_md_setup/biobb_wf_md_setup/notebooks/1AKI_pdb2gmx_top.zip\n",
      "2022-07-19 12:42:16,501 [MainThread  ] [INFO ]  Removed: ['p2g.top', 'posre.itp']\n"
     ]
    },
    {
     "data": {
      "text/plain": [
       "0"
      ]
     },
     "execution_count": 8,
     "metadata": {},
     "output_type": "execute_result"
    }
   ],
   "source": [
    "# Create system topology\n",
    "# Import module\n",
    "from biobb_md.gromacs.pdb2gmx import pdb2gmx\n",
    "\n",
    "# Create inputs/outputs\n",
    "output_pdb2gmx_gro = pdbCode+'_pdb2gmx.gro'\n",
    "output_pdb2gmx_top_zip = pdbCode+'_pdb2gmx_top.zip'\n",
    "\n",
    "# Create and launch bb\n",
    "pdb2gmx(input_pdb_path=fixed_pdb, \n",
    "        output_gro_path=output_pdb2gmx_gro, \n",
    "        output_top_zip_path=output_pdb2gmx_top_zip)"
   ]
  },
  {
   "cell_type": "markdown",
   "metadata": {},
   "source": [
    "### Visualizing 3D structure\n",
    "Visualizing the generated **GRO structure** using **NGL**. Note that **hydrogen atoms** were added to the structure by the **pdb2gmx GROMACS tool** when generating the **topology**.    "
   ]
  },
  {
   "cell_type": "code",
   "execution_count": 9,
   "metadata": {
    "scrolled": true
   },
   "outputs": [
    {
     "data": {
      "application/vnd.jupyter.widget-view+json": {
       "model_id": "28112ac9f0534940b77475666227a4da",
       "version_major": 2,
       "version_minor": 0
      },
      "text/plain": [
       "NGLWidget()"
      ]
     },
     "metadata": {},
     "output_type": "display_data"
    }
   ],
   "source": [
    "# Show protein\n",
    "view = nglview.show_structure_file(output_pdb2gmx_gro)\n",
    "view.add_representation(repr_type='ball+stick', selection='all')\n",
    "view._remote_call('setSize', target='Widget', args=['','600px'])\n",
    "view.camera='orthographic'\n",
    "view"
   ]
  },
  {
   "cell_type": "markdown",
   "metadata": {},
   "source": [
    "<a id=\"box\"></a>\n",
    "***\n",
    "## Create solvent box\n",
    "Define the unit cell for the **protein structure MD system** to fill it with water molecules.<br>\n",
    "A **cubic box** is used to define the unit cell, with a **distance from the protein to the box edge of 1.0 nm**. The protein is **centered in the box**.  \n",
    "\n",
    "***\n",
    "**Building Blocks** used:\n",
    " - [Editconf](https://biobb-md.readthedocs.io/en/latest/gromacs.html#module-gromacs.editconf) from **biobb_md.gromacs.editconf** \n",
    "***"
   ]
  },
  {
   "cell_type": "code",
   "execution_count": 10,
   "metadata": {},
   "outputs": [
    {
     "name": "stdout",
     "output_type": "stream",
     "text": [
      "2022-07-19 12:51:08,531 [MainThread  ] [INFO ]  GROMACS Editconf 20191 version detected\n",
      "2022-07-19 12:51:08,533 [MainThread  ] [INFO ]  Centering molecule in the box.\n",
      "2022-07-19 12:51:08,534 [MainThread  ] [INFO ]  Distance of the box to molecule:   1.00\n",
      "2022-07-19 12:51:08,534 [MainThread  ] [INFO ]  Box type: cubic\n",
      "2022-07-19 12:51:08,536 [MainThread  ] [INFO ]  Not using any container\n",
      "2022-07-19 12:51:08,555 [MainThread  ] [INFO ]  gmx -nobackup -nocopyright editconf -f 1AKI_pdb2gmx.gro -o 1AKI_editconf.gro -d 1.0 -bt cubic -c\n",
      "\n",
      "2022-07-19 12:51:08,557 [MainThread  ] [INFO ]  Exit code 0\n",
      "\n",
      "2022-07-19 12:51:08,559 [MainThread  ] [INFO ]  Note that major changes are planned in future for editconf, to improve usability and utility.Read 1960 atoms\n",
      "Volume: 55.8378 nm^3, corresponds to roughly 25100 electrons\n",
      "No velocities found\n",
      "    system size :  3.817  4.234  3.454 (nm)\n",
      "    diameter    :  5.010               (nm)\n",
      "    center      :  2.781  2.488  0.017 (nm)\n",
      "    box vectors :  3.817  4.235  3.455 (nm)\n",
      "    box angles  :  90.00  90.00  90.00 (degrees)\n",
      "    box volume  :  55.84               (nm^3)\n",
      "    shift       :  0.724  1.017  3.488 (nm)\n",
      "new center      :  3.505  3.505  3.505 (nm)\n",
      "new box vectors :  7.010  7.010  7.010 (nm)\n",
      "new box angles  :  90.00  90.00  90.00 (degrees)\n",
      "new box volume  : 344.48               (nm^3)\n",
      "\n",
      "2022-07-19 12:51:08,560 [MainThread  ] [INFO ]                       :-) GROMACS - gmx editconf, 2019.1 (-:\n",
      "\n",
      "Executable:   /home/pablo/anaconda3/envs/biobb_MDsetup_tutorial/bin/gmx\n",
      "Data prefix:  /home/pablo/anaconda3/envs/biobb_MDsetup_tutorial\n",
      "Working dir:  /home/pablo/repos/biobb_wf_md_setup/biobb_wf_md_setup/notebooks\n",
      "Command line:\n",
      "  gmx -nobackup -nocopyright editconf -f 1AKI_pdb2gmx.gro -o 1AKI_editconf.gro -d 1.0 -bt cubic -c\n",
      "\n",
      "\n",
      "GROMACS reminds you: \"Throughout my academic career, I'd given some pretty good talks. But being considered the best speaker in the computer science department is like being known as the tallest of the Seven Dwarfs.\" (Randy Pausch)\n",
      "\n",
      "\n",
      "2022-07-19 12:51:08,561 [MainThread  ] [INFO ]  Removed: []\n"
     ]
    },
    {
     "data": {
      "text/plain": [
       "0"
      ]
     },
     "execution_count": 10,
     "metadata": {},
     "output_type": "execute_result"
    }
   ],
   "source": [
    "# Editconf: Create solvent box\n",
    "# Import module\n",
    "from biobb_md.gromacs.editconf import editconf\n",
    "\n",
    "# Create prop dict and inputs/outputs\n",
    "output_editconf_gro = pdbCode+'_editconf.gro'\n",
    "\n",
    "prop = {\n",
    "    'box_type': 'cubic',\n",
    "    'distance_to_molecule': 1.0\n",
    "}\n",
    "\n",
    "#Create and launch bb\n",
    "editconf(input_gro_path=output_pdb2gmx_gro, \n",
    "         output_gro_path=output_editconf_gro,\n",
    "         properties=prop)"
   ]
  },
  {
   "cell_type": "markdown",
   "metadata": {},
   "source": [
    "<a id=\"water\"></a>\n",
    "***\n",
    "## Fill the box with water molecules\n",
    "Fill the unit cell for the **protein structure system** with water molecules.<br>\n",
    "The solvent type used is the default **Simple Point Charge water (SPC)**, a generic equilibrated 3-point solvent model. \n",
    "\n",
    "***\n",
    "**Building Blocks** used:\n",
    " - [Solvate](https://biobb-md.readthedocs.io/en/latest/gromacs.html#module-gromacs.solvate) from **biobb_md.gromacs.solvate** \n",
    "***"
   ]
  },
  {
   "cell_type": "code",
   "execution_count": 11,
   "metadata": {},
   "outputs": [
    {
     "name": "stdout",
     "output_type": "stream",
     "text": [
      "2022-07-19 12:54:07,264 [MainThread  ] [INFO ]  GROMACS Solvate 20191 version detected\n",
      "2022-07-19 12:54:07,268 [MainThread  ] [INFO ]  Extracting: /home/pablo/repos/biobb_wf_md_setup/biobb_wf_md_setup/notebooks/1AKI_pdb2gmx_top.zip\n",
      "2022-07-19 12:54:07,269 [MainThread  ] [INFO ]  to:\n",
      "2022-07-19 12:54:07,270 [MainThread  ] [INFO ]  ['897dd112-03d2-4302-8027-1fa2c3a717e0/p2g.top', '897dd112-03d2-4302-8027-1fa2c3a717e0/posre.itp']\n",
      "2022-07-19 12:54:07,271 [MainThread  ] [INFO ]  Unzipping: \n",
      "2022-07-19 12:54:07,272 [MainThread  ] [INFO ]  1AKI_pdb2gmx_top.zip\n",
      "2022-07-19 12:54:07,272 [MainThread  ] [INFO ]  To: \n",
      "2022-07-19 12:54:07,274 [MainThread  ] [INFO ]  897dd112-03d2-4302-8027-1fa2c3a717e0/p2g.top\n",
      "2022-07-19 12:54:07,274 [MainThread  ] [INFO ]  897dd112-03d2-4302-8027-1fa2c3a717e0/posre.itp\n",
      "2022-07-19 12:54:07,275 [MainThread  ] [INFO ]  Not using any container\n",
      "2022-07-19 12:54:07,667 [MainThread  ] [INFO ]  gmx -nobackup -nocopyright solvate -cp 1AKI_editconf.gro -cs spc216.gro -o 1AKI_solvate.gro -p 897dd112-03d2-4302-8027-1fa2c3a717e0/p2g.top\n",
      "\n",
      "2022-07-19 12:54:07,668 [MainThread  ] [INFO ]  Exit code 0\n",
      "\n",
      "2022-07-19 12:54:07,669 [MainThread  ] [INFO ]  \n",
      "WARNING: Masses and atomic (Van der Waals) radii will be guessed\n",
      "         based on residue and atom names, since they could not be\n",
      "         definitively assigned from the information in your input\n",
      "         files. These guessed numbers might deviate from the mass\n",
      "         and radius of the atom type. Please check the output\n",
      "         files if necessary.\n",
      "\n",
      "NOTE: From version 5.0 gmx solvate uses the Van der Waals radii\n",
      "from the source below. This means the results may be different\n",
      "compared to previous GROMACS versions.\n",
      "\n",
      "++++ PLEASE READ AND CITE THE FOLLOWING REFERENCE ++++\n",
      "A. Bondi\n",
      "van der Waals Volumes and Radii\n",
      "J. Phys. Chem. 68 (1964) pp. 441-451\n",
      "-------- -------- --- Thank You --- -------- --------\n",
      "\n",
      "Adding line for 10644 solvent molecules with resname (SOL) to topology file (897dd112-03d2-4302-8027-1fa2c3a717e0/p2g.top)\n",
      "\n",
      "2022-07-19 12:54:07,669 [MainThread  ] [INFO ]                       :-) GROMACS - gmx solvate, 2019.1 (-:\n",
      "\n",
      "Executable:   /home/pablo/anaconda3/envs/biobb_MDsetup_tutorial/bin/gmx\n",
      "Data prefix:  /home/pablo/anaconda3/envs/biobb_MDsetup_tutorial\n",
      "Working dir:  /home/pablo/repos/biobb_wf_md_setup/biobb_wf_md_setup/notebooks\n",
      "Command line:\n",
      "  gmx -nobackup -nocopyright solvate -cp 1AKI_editconf.gro -cs spc216.gro -o 1AKI_solvate.gro -p 897dd112-03d2-4302-8027-1fa2c3a717e0/p2g.top\n",
      "\n",
      "Reading solute configuration\n",
      "Reading solvent configuration\n",
      "\n",
      "Initialising inter-atomic distances...\n",
      "Generating solvent configuration\n",
      "Will generate new solvent configuration of 4x4x4 boxes\n",
      "Solvent box contains 39252 atoms in 13084 residues\n",
      "Removed 5451 solvent atoms due to solvent-solvent overlap\n",
      "Removed 1869 solvent atoms due to solute-solvent overlap\n",
      "Sorting configuration\n",
      "Found 1 molecule type:\n",
      "    SOL (   3 atoms): 10644 residues\n",
      "Generated solvent containing 31932 atoms in 10644 residues\n",
      "Writing generated configuration to 1AKI_solvate.gro\n",
      "\n",
      "Output configuration contains 33892 atoms in 10773 residues\n",
      "Volume                 :     344.484 (nm^3)\n",
      "Density                :     997.935 (g/l)\n",
      "Number of solvent molecules:  10644   \n",
      "\n",
      "Processing topology\n",
      "\n",
      "GROMACS reminds you: \"Microbiology Lab - Staph Only.\" (Anonymous)\n",
      "\n",
      "\n",
      "2022-07-19 12:54:07,670 [MainThread  ] [INFO ]  Compressing topology to: 1AKI_solvate_top.zip\n",
      "2022-07-19 12:54:07,672 [MainThread  ] [INFO ]  Ignored file 897dd112-03d2-4302-8027-1fa2c3a717e0/amber99sb-ildn.ff/forcefield.itp\n",
      "2022-07-19 12:54:07,680 [MainThread  ] [INFO ]  Ignored file 897dd112-03d2-4302-8027-1fa2c3a717e0/amber99sb-ildn.ff/spce.itp\n",
      "2022-07-19 12:54:07,681 [MainThread  ] [INFO ]  Ignored file 897dd112-03d2-4302-8027-1fa2c3a717e0/amber99sb-ildn.ff/ions.itp\n",
      "2022-07-19 12:54:07,683 [MainThread  ] [INFO ]  Adding:\n",
      "2022-07-19 12:54:07,684 [MainThread  ] [INFO ]  ['897dd112-03d2-4302-8027-1fa2c3a717e0/p2g.top', '897dd112-03d2-4302-8027-1fa2c3a717e0/posre.itp']\n",
      "2022-07-19 12:54:07,685 [MainThread  ] [INFO ]  to: /home/pablo/repos/biobb_wf_md_setup/biobb_wf_md_setup/notebooks/1AKI_solvate_top.zip\n",
      "2022-07-19 12:54:07,686 [MainThread  ] [INFO ]  Removed: ['897dd112-03d2-4302-8027-1fa2c3a717e0']\n"
     ]
    },
    {
     "data": {
      "text/plain": [
       "0"
      ]
     },
     "execution_count": 11,
     "metadata": {},
     "output_type": "execute_result"
    }
   ],
   "source": [
    "# Solvate: Fill the box with water molecules\n",
    "from biobb_md.gromacs.solvate import solvate\n",
    "\n",
    "# Create prop dict and inputs/outputs\n",
    "output_solvate_gro = pdbCode+'_solvate.gro'\n",
    "output_solvate_top_zip = pdbCode+'_solvate_top.zip'\n",
    "\n",
    "# Create and launch bb\n",
    "solvate(input_solute_gro_path=output_editconf_gro, \n",
    "        output_gro_path=output_solvate_gro, \n",
    "        input_top_zip_path=output_pdb2gmx_top_zip, \n",
    "        output_top_zip_path=output_solvate_top_zip)"
   ]
  },
  {
   "cell_type": "markdown",
   "metadata": {},
   "source": [
    "### Visualizing 3D structure\n",
    "Visualizing the **protein system** with the newly added **solvent box** using **NGL**.<br> Note the **cubic box** filled with **water molecules** surrounding the **protein structure**, which is **centered** right in the middle of the cube."
   ]
  },
  {
   "cell_type": "code",
   "execution_count": 12,
   "metadata": {
    "scrolled": true
   },
   "outputs": [
    {
     "data": {
      "application/vnd.jupyter.widget-view+json": {
       "model_id": "eff38b59ef15416d8673273f0a7a8166",
       "version_major": 2,
       "version_minor": 0
      },
      "text/plain": [
       "NGLWidget()"
      ]
     },
     "metadata": {},
     "output_type": "display_data"
    }
   ],
   "source": [
    "# Show protein\n",
    "view = nglview.show_structure_file(output_solvate_gro)\n",
    "view.clear_representations()\n",
    "view.add_representation(repr_type='cartoon', selection='solute', color='green')\n",
    "view.add_representation(repr_type='ball+stick', selection='SOL')\n",
    "view._remote_call('setSize', target='Widget', args=['','600px'])\n",
    "view.camera='orthographic'\n",
    "view"
   ]
  },
  {
   "cell_type": "markdown",
   "metadata": {},
   "source": [
    "<a id=\"ions\"></a>\n",
    "***\n",
    "## Adding ions\n",
    "Add ions to neutralize the **protein structure** charge\n",
    "- [Step 1](#ionsStep1): Creating portable binary run file for ion generation\n",
    "- [Step 2](#ionsStep2): Adding ions to **neutralize** the system\n",
    "***\n",
    "**Building Blocks** used:\n",
    " - [Grompp](https://biobb-md.readthedocs.io/en/latest/gromacs.html#module-gromacs.grompp) from **biobb_md.gromacs.grompp** \n",
    " - [Genion](https://biobb-md.readthedocs.io/en/latest/gromacs.html#module-gromacs.genion) from **biobb_md.gromacs.genion** \n",
    "***"
   ]
  },
  {
   "cell_type": "markdown",
   "metadata": {},
   "source": [
    "<a id=\"ionsStep1\"></a>\n",
    "### Step 1: Creating portable binary run file for ion generation\n",
    "A simple **energy minimization** molecular dynamics parameters (mdp) properties will be used to generate the portable binary run file for **ion generation**, although **any legitimate combination of parameters** could be used in this step."
   ]
  },
  {
   "cell_type": "code",
   "execution_count": 13,
   "metadata": {},
   "outputs": [
    {
     "name": "stdout",
     "output_type": "stream",
     "text": [
      "2022-07-19 12:59:34,848 [MainThread  ] [INFO ]  GROMACS Grompp 20191 version detected\n",
      "2022-07-19 12:59:34,852 [MainThread  ] [INFO ]  Extracting: /home/pablo/repos/biobb_wf_md_setup/biobb_wf_md_setup/notebooks/1AKI_solvate_top.zip\n",
      "2022-07-19 12:59:34,853 [MainThread  ] [INFO ]  to:\n",
      "2022-07-19 12:59:34,854 [MainThread  ] [INFO ]  ['ad71f9d3-fb49-4536-a395-8e4bbcbc88c1/p2g.top', 'ad71f9d3-fb49-4536-a395-8e4bbcbc88c1/posre.itp']\n",
      "2022-07-19 12:59:34,854 [MainThread  ] [INFO ]  Unzipping: \n",
      "2022-07-19 12:59:34,855 [MainThread  ] [INFO ]  1AKI_solvate_top.zip\n",
      "2022-07-19 12:59:34,856 [MainThread  ] [INFO ]  To: \n",
      "2022-07-19 12:59:34,857 [MainThread  ] [INFO ]  ad71f9d3-fb49-4536-a395-8e4bbcbc88c1/p2g.top\n",
      "2022-07-19 12:59:34,858 [MainThread  ] [INFO ]  ad71f9d3-fb49-4536-a395-8e4bbcbc88c1/posre.itp\n",
      "2022-07-19 12:59:34,860 [MainThread  ] [INFO ]  Not using any container\n",
      "2022-07-19 12:59:35,118 [MainThread  ] [INFO ]  gmx -nobackup -nocopyright grompp -f 8656b659-fe64-4354-9b69-0cdb1b59988b/grompp.mdp -c 1AKI_solvate.gro -r 1AKI_solvate.gro -p ad71f9d3-fb49-4536-a395-8e4bbcbc88c1/p2g.top -o 1AKI_gppion.tpr -po mdout.mdp -maxwarn 1\n",
      "\n",
      "2022-07-19 12:59:35,119 [MainThread  ] [INFO ]  Exit code 0\n",
      "\n",
      "2022-07-19 12:59:35,119 [MainThread  ] [INFO ]  \n",
      "++++ PLEASE READ AND CITE THE FOLLOWING REFERENCE ++++\n",
      "J. S. Hub, B. L. de Groot, H. Grubmueller, G. Groenhof\n",
      "Quantifying Artifacts in Ewald Simulations of Inhomogeneous Systems with a Net\n",
      "Charge\n",
      "J. Chem. Theory Comput. 10 (2014) pp. 381-393\n",
      "-------- -------- --- Thank You --- -------- --------\n",
      "\n",
      "Analysing residue names:\n",
      "There are:   129    Protein residues\n",
      "There are: 10644      Water residues\n",
      "Analysing Protein...\n",
      "Calculating fourier grid dimensions for X Y Z\n",
      "Using a fourier grid of 60x60x60, spacing 0.117 0.117 0.117\n",
      "This run will generate roughly 3 Mb of data\n",
      "\n",
      "2022-07-19 12:59:35,120 [MainThread  ] [INFO ]                        :-) GROMACS - gmx grompp, 2019.1 (-:\n",
      "\n",
      "Executable:   /home/pablo/anaconda3/envs/biobb_MDsetup_tutorial/bin/gmx\n",
      "Data prefix:  /home/pablo/anaconda3/envs/biobb_MDsetup_tutorial\n",
      "Working dir:  /home/pablo/repos/biobb_wf_md_setup/biobb_wf_md_setup/notebooks\n",
      "Command line:\n",
      "  gmx -nobackup -nocopyright grompp -f 8656b659-fe64-4354-9b69-0cdb1b59988b/grompp.mdp -c 1AKI_solvate.gro -r 1AKI_solvate.gro -p ad71f9d3-fb49-4536-a395-8e4bbcbc88c1/p2g.top -o 1AKI_gppion.tpr -po mdout.mdp -maxwarn 1\n",
      "\n",
      "Setting the LD random seed to 1102516938\n",
      "Generated 2145 of the 2145 non-bonded parameter combinations\n",
      "Generating 1-4 interactions: fudge = 0.5\n",
      "Generated 2145 of the 2145 1-4 parameter combinations\n",
      "Excluding 3 bonded neighbours molecule type 'Protein_chain_A'\n",
      "Excluding 2 bonded neighbours molecule type 'SOL'\n",
      "\n",
      "NOTE 1 [file p2g.top, line 18676]:\n",
      "  System has non-zero total charge: 8.000000\n",
      "  Total charge should normally be an integer. See\n",
      "  http://www.gromacs.org/Documentation/Floating_Point_Arithmetic\n",
      "  for discussion on how close it should be to an integer.\n",
      "  \n",
      "\n",
      "\n",
      "\n",
      "WARNING 1 [file p2g.top, line 18676]:\n",
      "  You are using Ewald electrostatics in a system with net charge. This can\n",
      "  lead to severe artifacts, such as ions moving into regions with low\n",
      "  dielectric, due to the uniform background charge. We suggest to\n",
      "  neutralize your system with counter ions, possibly in combination with a\n",
      "  physiological salt concentration.\n",
      "\n",
      "Removing all charge groups because cutoff-scheme=Verlet\n",
      "Number of degrees of freedom in T-Coupling group rest is 69741.00\n",
      "Estimate for the relative computational load of the PME mesh part: 0.17\n",
      "\n",
      "There was 1 note\n",
      "\n",
      "There was 1 warning\n",
      "\n",
      "GROMACS reminds you: \"Why is the Earth moving 'round the sun? Floating in the vacuum with no purpose, not a one\" (Fleet Foxes)\n",
      "\n",
      "\n",
      "2022-07-19 12:59:35,122 [MainThread  ] [INFO ]  Removed: ['mdout.mdp', 'ad71f9d3-fb49-4536-a395-8e4bbcbc88c1', '8656b659-fe64-4354-9b69-0cdb1b59988b']\n"
     ]
    },
    {
     "data": {
      "text/plain": [
       "0"
      ]
     },
     "execution_count": 13,
     "metadata": {},
     "output_type": "execute_result"
    }
   ],
   "source": [
    "# Grompp: Creating portable binary run file for ion generation\n",
    "from biobb_md.gromacs.grompp import grompp\n",
    "\n",
    "# Create prop dict and inputs/outputs\n",
    "output_gppion_tpr = pdbCode+'_gppion.tpr'\n",
    "prop = {\n",
    "    'simulation_type': 'minimization',\n",
    "    'maxwarn': 1\n",
    "}\n",
    "\n",
    "# Create and launch bb\n",
    "grompp(input_gro_path=output_solvate_gro, \n",
    "       input_top_zip_path=output_solvate_top_zip, \n",
    "       output_tpr_path=output_gppion_tpr,  \n",
    "       properties=prop)"
   ]
  },
  {
   "cell_type": "markdown",
   "metadata": {},
   "source": [
    "<a id=\"ionsStep2\"></a>\n",
    "### Step 2: Adding ions to neutralize the system\n",
    "Replace **solvent molecules** with **ions** to **neutralize** the system."
   ]
  },
  {
   "cell_type": "code",
   "execution_count": 14,
   "metadata": {},
   "outputs": [
    {
     "name": "stdout",
     "output_type": "stream",
     "text": [
      "2022-07-19 13:03:24,890 [MainThread  ] [INFO ]  GROMACS Genion 20191 version detected\n",
      "2022-07-19 13:03:24,894 [MainThread  ] [INFO ]  Extracting: /home/pablo/repos/biobb_wf_md_setup/biobb_wf_md_setup/notebooks/1AKI_solvate_top.zip\n",
      "2022-07-19 13:03:24,895 [MainThread  ] [INFO ]  to:\n",
      "2022-07-19 13:03:24,895 [MainThread  ] [INFO ]  ['ecb5e16f-050e-49e7-a445-bb6890b78ca6/p2g.top', 'ecb5e16f-050e-49e7-a445-bb6890b78ca6/posre.itp']\n",
      "2022-07-19 13:03:24,897 [MainThread  ] [INFO ]  Unzipping: \n",
      "2022-07-19 13:03:24,898 [MainThread  ] [INFO ]  1AKI_solvate_top.zip\n",
      "2022-07-19 13:03:24,899 [MainThread  ] [INFO ]  To: \n",
      "2022-07-19 13:03:24,899 [MainThread  ] [INFO ]  ecb5e16f-050e-49e7-a445-bb6890b78ca6/p2g.top\n",
      "2022-07-19 13:03:24,900 [MainThread  ] [INFO ]  ecb5e16f-050e-49e7-a445-bb6890b78ca6/posre.itp\n",
      "2022-07-19 13:03:24,901 [MainThread  ] [INFO ]  To reach up 0.05 mol/litre concentration\n",
      "2022-07-19 13:03:24,902 [MainThread  ] [INFO ]  Not using any container\n",
      "2022-07-19 13:03:24,984 [MainThread  ] [INFO ]  echo \"SOL\" | gmx -nobackup -nocopyright genion -s 1AKI_gppion.tpr -o 1AKI_genion.gro -p ecb5e16f-050e-49e7-a445-bb6890b78ca6/p2g.top -neutral -conc 0.05 -seed 1993\n",
      "\n",
      "2022-07-19 13:03:24,986 [MainThread  ] [INFO ]  Exit code 0\n",
      "\n",
      "2022-07-19 13:03:24,986 [MainThread  ] [INFO ]  Will try to add 10 NA ions and 18 CL ions.\n",
      "Select a continuous group of solvent molecules\n",
      "Selected 13: 'SOL'\n",
      "\n",
      "Processing topology\n",
      "Replacing 28 solute molecules in topology file (ecb5e16f-050e-49e7-a445-bb6890b78ca6/p2g.top)  by 10 NA and 18 CL ions.\n",
      "\n",
      "2022-07-19 13:03:24,987 [MainThread  ] [INFO ]                        :-) GROMACS - gmx genion, 2019.1 (-:\n",
      "\n",
      "Executable:   /home/pablo/anaconda3/envs/biobb_MDsetup_tutorial/bin/gmx\n",
      "Data prefix:  /home/pablo/anaconda3/envs/biobb_MDsetup_tutorial\n",
      "Working dir:  /home/pablo/repos/biobb_wf_md_setup/biobb_wf_md_setup/notebooks\n",
      "Command line:\n",
      "  gmx -nobackup -nocopyright genion -s 1AKI_gppion.tpr -o 1AKI_genion.gro -p ecb5e16f-050e-49e7-a445-bb6890b78ca6/p2g.top -neutral -conc 0.05 -seed 1993\n",
      "\n",
      "Reading file 1AKI_gppion.tpr, VERSION 2019.1 (single precision)\n",
      "Reading file 1AKI_gppion.tpr, VERSION 2019.1 (single precision)\n",
      "Group     0 (         System) has 33892 elements\n",
      "Group     1 (        Protein) has  1960 elements\n",
      "Group     2 (      Protein-H) has  1001 elements\n",
      "Group     3 (        C-alpha) has   129 elements\n",
      "Group     4 (       Backbone) has   387 elements\n",
      "Group     5 (      MainChain) has   517 elements\n",
      "Group     6 (   MainChain+Cb) has   634 elements\n",
      "Group     7 (    MainChain+H) has   646 elements\n",
      "Group     8 (      SideChain) has  1314 elements\n",
      "Group     9 (    SideChain-H) has   484 elements\n",
      "Group    10 (    Prot-Masses) has  1960 elements\n",
      "Group    11 (    non-Protein) has 31932 elements\n",
      "Group    12 (          Water) has 31932 elements\n",
      "Group    13 (            SOL) has 31932 elements\n",
      "Group    14 (      non-Water) has  1960 elements\n",
      "Select a group: Number of (3-atomic) solvent molecules: 10644\n",
      "Using random seed 1993.\n",
      "Replacing solvent molecule 6684 (atom 22012) with NA\n",
      "Replacing solvent molecule 3713 (atom 13099) with NA\n",
      "Replacing solvent molecule 6865 (atom 22555) with NA\n",
      "Replacing solvent molecule 6607 (atom 21781) with NA\n",
      "Replacing solvent molecule 2054 (atom 8122) with NA\n",
      "Replacing solvent molecule 3610 (atom 12790) with NA\n",
      "Replacing solvent molecule 2213 (atom 8599) with NA\n",
      "Replacing solvent molecule 2304 (atom 8872) with NA\n",
      "Replacing solvent molecule 1640 (atom 6880) with NA\n",
      "Replacing solvent molecule 2994 (atom 10942) with NA\n",
      "Replacing solvent molecule 905 (atom 4675) with CL\n",
      "Replacing solvent molecule 9779 (atom 31297) with CL\n",
      "Replacing solvent molecule 9064 (atom 29152) with CL\n",
      "Replacing solvent molecule 4558 (atom 15634) with CL\n",
      "Replacing solvent molecule 1900 (atom 7660) with CL\n",
      "Replacing solvent molecule 7505 (atom 24475) with CL\n",
      "Replacing solvent molecule 9184 (atom 29512) with CL\n",
      "Replacing solvent molecule 5771 (atom 19273) with CL\n",
      "Replacing solvent molecule 2902 (atom 10666) with CL\n",
      "Replacing solvent molecule 2024 (atom 8032) with CL\n",
      "Replacing solvent molecule 8521 (atom 27523) with CL\n",
      "Replacing solvent molecule 909 (atom 4687) with CL\n",
      "Replacing solvent molecule 10104 (atom 32272) with CL\n",
      "Replacing solvent molecule 3869 (atom 13567) with CL\n",
      "Replacing solvent molecule 965 (atom 4855) with CL\n",
      "Replacing solvent molecule 5862 (atom 19546) with CL\n",
      "Replacing solvent molecule 8200 (atom 26560) with CL\n",
      "Replacing solvent molecule 3200 (atom 11560) with CL\n",
      "\n",
      "\n",
      "GROMACS reminds you: \"Above all, don't fear difficult moments. The best comes from them.\" (Rita Levi-Montalcini)\n",
      "\n",
      "\n",
      "2022-07-19 13:03:24,988 [MainThread  ] [INFO ]  Compressing topology to: 1AKI_genion_top.zip\n",
      "2022-07-19 13:03:24,989 [MainThread  ] [INFO ]  Ignored file ecb5e16f-050e-49e7-a445-bb6890b78ca6/amber99sb-ildn.ff/forcefield.itp\n",
      "2022-07-19 13:03:24,995 [MainThread  ] [INFO ]  Ignored file ecb5e16f-050e-49e7-a445-bb6890b78ca6/amber99sb-ildn.ff/spce.itp\n",
      "2022-07-19 13:03:24,996 [MainThread  ] [INFO ]  Ignored file ecb5e16f-050e-49e7-a445-bb6890b78ca6/amber99sb-ildn.ff/ions.itp\n",
      "2022-07-19 13:03:24,998 [MainThread  ] [INFO ]  Adding:\n",
      "2022-07-19 13:03:24,999 [MainThread  ] [INFO ]  ['ecb5e16f-050e-49e7-a445-bb6890b78ca6/p2g.top', 'ecb5e16f-050e-49e7-a445-bb6890b78ca6/posre.itp']\n",
      "2022-07-19 13:03:25,000 [MainThread  ] [INFO ]  to: /home/pablo/repos/biobb_wf_md_setup/biobb_wf_md_setup/notebooks/1AKI_genion_top.zip\n",
      "2022-07-19 13:03:25,001 [MainThread  ] [INFO ]  Removed: ['ecb5e16f-050e-49e7-a445-bb6890b78ca6']\n"
     ]
    },
    {
     "data": {
      "text/plain": [
       "0"
      ]
     },
     "execution_count": 14,
     "metadata": {},
     "output_type": "execute_result"
    }
   ],
   "source": [
    "# Genion: Adding ions to neutralize the system\n",
    "from biobb_md.gromacs.genion import genion\n",
    "\n",
    "# Create prop dict and inputs/outputs\n",
    "output_genion_gro = pdbCode+'_genion.gro'\n",
    "output_genion_top_zip = pdbCode+'_genion_top.zip'\n",
    "prop={\n",
    "    'neutral':True\n",
    "}\n",
    "\n",
    "# Create and launch bb\n",
    "genion(input_tpr_path=output_gppion_tpr, \n",
    "       output_gro_path=output_genion_gro, \n",
    "       input_top_zip_path=output_solvate_top_zip, \n",
    "       output_top_zip_path=output_genion_top_zip, \n",
    "       properties=prop)"
   ]
  },
  {
   "cell_type": "markdown",
   "metadata": {},
   "source": [
    "### Visualizing 3D structure\n",
    "Visualizing the **neutralized protein system** with the newly added **ions** using **NGL**"
   ]
  },
  {
   "cell_type": "code",
   "execution_count": 23,
   "metadata": {
    "scrolled": true
   },
   "outputs": [
    {
     "data": {
      "application/vnd.jupyter.widget-view+json": {
       "model_id": "03de2e8667b74b848868a76891efa387",
       "version_major": 2,
       "version_minor": 0
      },
      "text/plain": [
       "NGLWidget()"
      ]
     },
     "metadata": {},
     "output_type": "display_data"
    }
   ],
   "source": [
    "# Show protein\n",
    "view = nglview.show_structure_file(output_genion_gro)\n",
    "view.clear_representations()\n",
    "view.add_representation(repr_type='cartoon', selection='solute', color='sstruc')\n",
    "view.add_representation(repr_type='ball+stick', selection='NA')\n",
    "view.add_representation(repr_type='ball+stick', selection='CL')\n",
    "view._remote_call('setSize', target='Widget', args=['','600px'])\n",
    "view.camera='orthographic'\n",
    "view"
   ]
  },
  {
   "cell_type": "markdown",
   "metadata": {},
   "source": [
    "<a id=\"min\"></a>\n",
    "***\n",
    "## Energetically minimize the system\n",
    "Energetically minimize the **protein system** till reaching a desired potential energy.\n",
    "- [Step 1](#emStep1): Creating portable binary run file for energy minimization\n",
    "- [Step 2](#emStep2): Energetically minimize the **system** till reaching a force of 500 kJ mol-1 nm-1.\n",
    "- [Step 3](#emStep3): Checking **energy minimization** results. Plotting energy by time during the **minimization** process.\n",
    "***\n",
    "**Building Blocks** used:\n",
    " - [Grompp](https://biobb-md.readthedocs.io/en/latest/gromacs.html#module-gromacs.grompp) from **biobb_md.gromacs.grompp** \n",
    " - [Mdrun](https://biobb-md.readthedocs.io/en/latest/gromacs.html#module-gromacs.mdrun) from **biobb_md.gromacs.mdrun** \n",
    " - [GMXEnergy](https://biobb-analysis.readthedocs.io/en/latest/gromacs.html#module-gromacs.gmx_energy) from **biobb_analysis.gromacs.gmx_energy** \n",
    "***"
   ]
  },
  {
   "cell_type": "markdown",
   "metadata": {},
   "source": [
    "<a id=\"emStep1\"></a>\n",
    "### Step 1: Creating portable binary run file for energy minimization\n",
    "The **minimization** type of the **molecular dynamics parameters (mdp) property** contains the main default parameters to run an **energy minimization**:\n",
    "\n",
    "-  integrator  = steep ; Algorithm (steep = steepest descent minimization)\n",
    "-  emtol       = 1000.0 ; Stop minimization when the maximum force < 1000.0 kJ/mol/nm\n",
    "-  emstep      = 0.01 ; Minimization step size (nm)\n",
    "-  nsteps      = 50000 ; Maximum number of (minimization) steps to perform\n",
    "\n",
    "In this particular example, the method used to run the **energy minimization** is the default **steepest descent**, but the **maximum force** is placed at **500 KJ/mol\\*nm^2**, and the **maximum number of steps** to perform (if the maximum force is not reached) to **5,000 steps**. "
   ]
  },
  {
   "cell_type": "code",
   "execution_count": 24,
   "metadata": {},
   "outputs": [
    {
     "name": "stdout",
     "output_type": "stream",
     "text": [
      "2022-07-19 13:22:39,918 [MainThread  ] [INFO ]  GROMACS Grompp 20191 version detected\n",
      "2022-07-19 13:22:39,922 [MainThread  ] [INFO ]  Extracting: /home/pablo/repos/biobb_wf_md_setup/biobb_wf_md_setup/notebooks/1AKI_genion_top.zip\n",
      "2022-07-19 13:22:39,923 [MainThread  ] [INFO ]  to:\n",
      "2022-07-19 13:22:39,925 [MainThread  ] [INFO ]  ['2eeb8134-0f03-4605-a50a-0550c6b66aa0/p2g.top', '2eeb8134-0f03-4605-a50a-0550c6b66aa0/posre.itp']\n",
      "2022-07-19 13:22:39,926 [MainThread  ] [INFO ]  Unzipping: \n",
      "2022-07-19 13:22:39,927 [MainThread  ] [INFO ]  1AKI_genion_top.zip\n",
      "2022-07-19 13:22:39,929 [MainThread  ] [INFO ]  To: \n",
      "2022-07-19 13:22:39,930 [MainThread  ] [INFO ]  2eeb8134-0f03-4605-a50a-0550c6b66aa0/p2g.top\n",
      "2022-07-19 13:22:39,931 [MainThread  ] [INFO ]  2eeb8134-0f03-4605-a50a-0550c6b66aa0/posre.itp\n",
      "2022-07-19 13:22:39,933 [MainThread  ] [INFO ]  Not using any container\n",
      "2022-07-19 13:22:40,198 [MainThread  ] [INFO ]  gmx -nobackup -nocopyright grompp -f 84c2b4ff-7674-47f3-94b1-a310b39026b7/grompp.mdp -c 1AKI_genion.gro -r 1AKI_genion.gro -p 2eeb8134-0f03-4605-a50a-0550c6b66aa0/p2g.top -o 1AKI_gppmin.tpr -po mdout.mdp -maxwarn 0\n",
      "\n",
      "2022-07-19 13:22:40,199 [MainThread  ] [INFO ]  Exit code 0\n",
      "\n",
      "2022-07-19 13:22:40,200 [MainThread  ] [INFO ]  Analysing residue names:\n",
      "There are:   129    Protein residues\n",
      "There are: 10616      Water residues\n",
      "There are:    28        Ion residues\n",
      "Analysing Protein...\n",
      "Analysing residues not classified as Protein/DNA/RNA/Water and splitting into groups...\n",
      "Calculating fourier grid dimensions for X Y Z\n",
      "Using a fourier grid of 60x60x60, spacing 0.117 0.117 0.117\n",
      "This run will generate roughly 3 Mb of data\n",
      "\n",
      "2022-07-19 13:22:40,201 [MainThread  ] [INFO ]                        :-) GROMACS - gmx grompp, 2019.1 (-:\n",
      "\n",
      "Executable:   /home/pablo/anaconda3/envs/biobb_MDsetup_tutorial/bin/gmx\n",
      "Data prefix:  /home/pablo/anaconda3/envs/biobb_MDsetup_tutorial\n",
      "Working dir:  /home/pablo/repos/biobb_wf_md_setup/biobb_wf_md_setup/notebooks\n",
      "Command line:\n",
      "  gmx -nobackup -nocopyright grompp -f 84c2b4ff-7674-47f3-94b1-a310b39026b7/grompp.mdp -c 1AKI_genion.gro -r 1AKI_genion.gro -p 2eeb8134-0f03-4605-a50a-0550c6b66aa0/p2g.top -o 1AKI_gppmin.tpr -po mdout.mdp -maxwarn 0\n",
      "\n",
      "Setting the LD random seed to -1257330774\n",
      "Generated 2145 of the 2145 non-bonded parameter combinations\n",
      "Generating 1-4 interactions: fudge = 0.5\n",
      "Generated 2145 of the 2145 1-4 parameter combinations\n",
      "Excluding 3 bonded neighbours molecule type 'Protein_chain_A'\n",
      "Excluding 2 bonded neighbours molecule type 'SOL'\n",
      "Excluding 1 bonded neighbours molecule type 'NA'\n",
      "Excluding 1 bonded neighbours molecule type 'CL'\n",
      "Removing all charge groups because cutoff-scheme=Verlet\n",
      "Number of degrees of freedom in T-Coupling group rest is 69657.00\n",
      "Estimate for the relative computational load of the PME mesh part: 0.17\n",
      "\n",
      "GROMACS reminds you: \"Confirmed\" (Star Trek)\n",
      "\n",
      "\n",
      "2022-07-19 13:22:40,203 [MainThread  ] [INFO ]  Removed: ['mdout.mdp', '2eeb8134-0f03-4605-a50a-0550c6b66aa0', '84c2b4ff-7674-47f3-94b1-a310b39026b7']\n"
     ]
    },
    {
     "data": {
      "text/plain": [
       "0"
      ]
     },
     "execution_count": 24,
     "metadata": {},
     "output_type": "execute_result"
    }
   ],
   "source": [
    "# Grompp: Creating portable binary run file for mdrun\n",
    "from biobb_md.gromacs.grompp import grompp\n",
    "\n",
    "# Create prop dict and inputs/outputs\n",
    "output_gppmin_tpr = pdbCode+'_gppmin.tpr'\n",
    "prop = {\n",
    "    'mdp':{\n",
    "        'emtol':'500',\n",
    "        'nsteps':'5000'\n",
    "    },\n",
    "    'simulation_type': 'minimization'\n",
    "}\n",
    "\n",
    "# Create and launch bb\n",
    "grompp(input_gro_path=output_genion_gro, \n",
    "       input_top_zip_path=output_genion_top_zip, \n",
    "       output_tpr_path=output_gppmin_tpr,  \n",
    "       properties=prop)"
   ]
  },
  {
   "cell_type": "markdown",
   "metadata": {},
   "source": [
    "<a id=\"emStep2\"></a>\n",
    "### Step 2: Running Energy Minimization\n",
    "Running **energy minimization** using the **tpr file** generated in the previous step. "
   ]
  },
  {
   "cell_type": "code",
   "execution_count": 25,
   "metadata": {},
   "outputs": [
    {
     "name": "stdout",
     "output_type": "stream",
     "text": [
      "2022-07-19 13:22:50,584 [MainThread  ] [INFO ]  GROMACS Mdrun 20191 version detected\n",
      "2022-07-19 13:22:50,585 [MainThread  ] [INFO ]  Not using any container\n"
     ]
    },
    {
     "ename": "KeyboardInterrupt",
     "evalue": "",
     "output_type": "error",
     "traceback": [
      "\u001b[0;31m---------------------------------------------------------------------------\u001b[0m",
      "\u001b[0;31mKeyboardInterrupt\u001b[0m                         Traceback (most recent call last)",
      "\u001b[0;32m/tmp/ipykernel_10824/3560942978.py\u001b[0m in \u001b[0;36m<module>\u001b[0;34m\u001b[0m\n\u001b[1;32m     13\u001b[0m       \u001b[0moutput_gro_path\u001b[0m\u001b[0;34m=\u001b[0m\u001b[0moutput_min_gro\u001b[0m\u001b[0;34m,\u001b[0m\u001b[0;34m\u001b[0m\u001b[0;34m\u001b[0m\u001b[0m\n\u001b[1;32m     14\u001b[0m       \u001b[0moutput_edr_path\u001b[0m\u001b[0;34m=\u001b[0m\u001b[0moutput_min_edr\u001b[0m\u001b[0;34m,\u001b[0m\u001b[0;34m\u001b[0m\u001b[0;34m\u001b[0m\u001b[0m\n\u001b[0;32m---> 15\u001b[0;31m       output_log_path=output_min_log)\n\u001b[0m",
      "\u001b[0;32m~/anaconda3/envs/biobb_MDsetup_tutorial/lib/python3.7/site-packages/biobb_md/gromacs/mdrun.py\u001b[0m in \u001b[0;36mmdrun\u001b[0;34m(input_tpr_path, output_trr_path, output_gro_path, output_edr_path, output_log_path, input_cpt_path, output_xtc_path, output_cpt_path, output_dhdl_path, properties, **kwargs)\u001b[0m\n\u001b[1;32m    264\u001b[0m                  \u001b[0moutput_xtc_path\u001b[0m\u001b[0;34m=\u001b[0m\u001b[0moutput_xtc_path\u001b[0m\u001b[0;34m,\u001b[0m \u001b[0moutput_cpt_path\u001b[0m\u001b[0;34m=\u001b[0m\u001b[0moutput_cpt_path\u001b[0m\u001b[0;34m,\u001b[0m\u001b[0;34m\u001b[0m\u001b[0;34m\u001b[0m\u001b[0m\n\u001b[1;32m    265\u001b[0m                  \u001b[0moutput_dhdl_path\u001b[0m\u001b[0;34m=\u001b[0m\u001b[0moutput_dhdl_path\u001b[0m\u001b[0;34m,\u001b[0m \u001b[0mproperties\u001b[0m\u001b[0;34m=\u001b[0m\u001b[0mproperties\u001b[0m\u001b[0;34m,\u001b[0m\u001b[0;34m\u001b[0m\u001b[0;34m\u001b[0m\u001b[0m\n\u001b[0;32m--> 266\u001b[0;31m                  **kwargs).launch()\n\u001b[0m\u001b[1;32m    267\u001b[0m \u001b[0;34m\u001b[0m\u001b[0m\n\u001b[1;32m    268\u001b[0m \u001b[0;34m\u001b[0m\u001b[0m\n",
      "\u001b[0;32m~/anaconda3/envs/biobb_MDsetup_tutorial/lib/python3.7/site-packages/biobb_common/tools/file_utils.py\u001b[0m in \u001b[0;36mwrapper_log\u001b[0;34m(*args, **kwargs)\u001b[0m\n\u001b[1;32m    295\u001b[0m         args[0].out_log, args[0].err_log = get_logs(path=args[0].path, prefix=args[0].prefix, step=args[0].step,\n\u001b[1;32m    296\u001b[0m                                                     can_write_console=args[0].can_write_console_log)\n\u001b[0;32m--> 297\u001b[0;31m         \u001b[0mvalue\u001b[0m \u001b[0;34m=\u001b[0m \u001b[0mfunc\u001b[0m\u001b[0;34m(\u001b[0m\u001b[0;34m*\u001b[0m\u001b[0margs\u001b[0m\u001b[0;34m,\u001b[0m \u001b[0;34m**\u001b[0m\u001b[0mkwargs\u001b[0m\u001b[0;34m)\u001b[0m\u001b[0;34m\u001b[0m\u001b[0;34m\u001b[0m\u001b[0m\n\u001b[0m\u001b[1;32m    298\u001b[0m         \u001b[0mhandlers\u001b[0m \u001b[0;34m=\u001b[0m \u001b[0margs\u001b[0m\u001b[0;34m[\u001b[0m\u001b[0;36m0\u001b[0m\u001b[0;34m]\u001b[0m\u001b[0;34m.\u001b[0m\u001b[0mout_log\u001b[0m\u001b[0;34m.\u001b[0m\u001b[0mhandlers\u001b[0m\u001b[0;34m[\u001b[0m\u001b[0;34m:\u001b[0m\u001b[0;34m]\u001b[0m  \u001b[0;31m# Create a copy [:] of the handler list to be able to modify it while we are iterating\u001b[0m\u001b[0;34m\u001b[0m\u001b[0;34m\u001b[0m\u001b[0m\n\u001b[1;32m    299\u001b[0m         \u001b[0;32mfor\u001b[0m \u001b[0mhandler\u001b[0m \u001b[0;32min\u001b[0m \u001b[0mhandlers\u001b[0m\u001b[0;34m:\u001b[0m\u001b[0;34m\u001b[0m\u001b[0;34m\u001b[0m\u001b[0m\n",
      "\u001b[0;32m~/anaconda3/envs/biobb_MDsetup_tutorial/lib/python3.7/site-packages/biobb_md/gromacs/mdrun.py\u001b[0m in \u001b[0;36mlaunch\u001b[0;34m(self)\u001b[0m\n\u001b[1;32m    242\u001b[0m                                  \u001b[0mcontainer_image\u001b[0m\u001b[0;34m=\u001b[0m\u001b[0mself\u001b[0m\u001b[0;34m.\u001b[0m\u001b[0mcontainer_image\u001b[0m\u001b[0;34m,\u001b[0m\u001b[0;34m\u001b[0m\u001b[0;34m\u001b[0m\u001b[0m\n\u001b[1;32m    243\u001b[0m                                  out_log=out_log, global_log=self.global_log)\n\u001b[0;32m--> 244\u001b[0;31m         \u001b[0mreturncode\u001b[0m \u001b[0;34m=\u001b[0m \u001b[0mcmd_wrapper\u001b[0m\u001b[0;34m.\u001b[0m\u001b[0mCmdWrapper\u001b[0m\u001b[0;34m(\u001b[0m\u001b[0mcmd\u001b[0m\u001b[0;34m,\u001b[0m \u001b[0mout_log\u001b[0m\u001b[0;34m,\u001b[0m \u001b[0merr_log\u001b[0m\u001b[0;34m,\u001b[0m \u001b[0mself\u001b[0m\u001b[0;34m.\u001b[0m\u001b[0mglobal_log\u001b[0m\u001b[0;34m,\u001b[0m \u001b[0mnew_env\u001b[0m\u001b[0;34m)\u001b[0m\u001b[0;34m.\u001b[0m\u001b[0mlaunch\u001b[0m\u001b[0;34m(\u001b[0m\u001b[0;34m)\u001b[0m\u001b[0;34m\u001b[0m\u001b[0;34m\u001b[0m\u001b[0m\n\u001b[0m\u001b[1;32m    245\u001b[0m         \u001b[0mfu\u001b[0m\u001b[0;34m.\u001b[0m\u001b[0mcopy_to_host\u001b[0m\u001b[0;34m(\u001b[0m\u001b[0mself\u001b[0m\u001b[0;34m.\u001b[0m\u001b[0mcontainer_path\u001b[0m\u001b[0;34m,\u001b[0m \u001b[0mcontainer_io_dict\u001b[0m\u001b[0;34m,\u001b[0m \u001b[0mself\u001b[0m\u001b[0;34m.\u001b[0m\u001b[0mio_dict\u001b[0m\u001b[0;34m)\u001b[0m\u001b[0;34m\u001b[0m\u001b[0;34m\u001b[0m\u001b[0m\n\u001b[1;32m    246\u001b[0m \u001b[0;34m\u001b[0m\u001b[0m\n",
      "\u001b[0;32m~/anaconda3/envs/biobb_MDsetup_tutorial/lib/python3.7/site-packages/biobb_common/command_wrapper/cmd_wrapper.py\u001b[0m in \u001b[0;36mlaunch\u001b[0;34m(self)\u001b[0m\n\u001b[1;32m     36\u001b[0m                                    env=new_env)\n\u001b[1;32m     37\u001b[0m \u001b[0;34m\u001b[0m\u001b[0m\n\u001b[0;32m---> 38\u001b[0;31m         \u001b[0mout\u001b[0m\u001b[0;34m,\u001b[0m \u001b[0merr\u001b[0m \u001b[0;34m=\u001b[0m \u001b[0mprocess\u001b[0m\u001b[0;34m.\u001b[0m\u001b[0mcommunicate\u001b[0m\u001b[0;34m(\u001b[0m\u001b[0;34m)\u001b[0m\u001b[0;34m\u001b[0m\u001b[0;34m\u001b[0m\u001b[0m\n\u001b[0m\u001b[1;32m     39\u001b[0m         \u001b[0;32mif\u001b[0m \u001b[0mself\u001b[0m\u001b[0;34m.\u001b[0m\u001b[0mout_log\u001b[0m \u001b[0;32mis\u001b[0m \u001b[0;32mNone\u001b[0m\u001b[0;34m:\u001b[0m\u001b[0;34m\u001b[0m\u001b[0;34m\u001b[0m\u001b[0m\n\u001b[1;32m     40\u001b[0m             \u001b[0mprint\u001b[0m\u001b[0;34m(\u001b[0m\u001b[0;34m\"Exit, code {}\"\u001b[0m\u001b[0;34m.\u001b[0m\u001b[0mformat\u001b[0m\u001b[0;34m(\u001b[0m\u001b[0mprocess\u001b[0m\u001b[0;34m.\u001b[0m\u001b[0mreturncode\u001b[0m\u001b[0;34m)\u001b[0m\u001b[0;34m)\u001b[0m\u001b[0;34m\u001b[0m\u001b[0;34m\u001b[0m\u001b[0m\n",
      "\u001b[0;32m~/anaconda3/envs/biobb_MDsetup_tutorial/lib/python3.7/subprocess.py\u001b[0m in \u001b[0;36mcommunicate\u001b[0;34m(self, input, timeout)\u001b[0m\n\u001b[1;32m    962\u001b[0m \u001b[0;34m\u001b[0m\u001b[0m\n\u001b[1;32m    963\u001b[0m             \u001b[0;32mtry\u001b[0m\u001b[0;34m:\u001b[0m\u001b[0;34m\u001b[0m\u001b[0;34m\u001b[0m\u001b[0m\n\u001b[0;32m--> 964\u001b[0;31m                 \u001b[0mstdout\u001b[0m\u001b[0;34m,\u001b[0m \u001b[0mstderr\u001b[0m \u001b[0;34m=\u001b[0m \u001b[0mself\u001b[0m\u001b[0;34m.\u001b[0m\u001b[0m_communicate\u001b[0m\u001b[0;34m(\u001b[0m\u001b[0minput\u001b[0m\u001b[0;34m,\u001b[0m \u001b[0mendtime\u001b[0m\u001b[0;34m,\u001b[0m \u001b[0mtimeout\u001b[0m\u001b[0;34m)\u001b[0m\u001b[0;34m\u001b[0m\u001b[0;34m\u001b[0m\u001b[0m\n\u001b[0m\u001b[1;32m    965\u001b[0m             \u001b[0;32mexcept\u001b[0m \u001b[0mKeyboardInterrupt\u001b[0m\u001b[0;34m:\u001b[0m\u001b[0;34m\u001b[0m\u001b[0;34m\u001b[0m\u001b[0m\n\u001b[1;32m    966\u001b[0m                 \u001b[0;31m# https://bugs.python.org/issue25942\u001b[0m\u001b[0;34m\u001b[0m\u001b[0;34m\u001b[0m\u001b[0;34m\u001b[0m\u001b[0m\n",
      "\u001b[0;32m~/anaconda3/envs/biobb_MDsetup_tutorial/lib/python3.7/subprocess.py\u001b[0m in \u001b[0;36m_communicate\u001b[0;34m(self, input, endtime, orig_timeout)\u001b[0m\n\u001b[1;32m   1713\u001b[0m                             'failed to raise TimeoutExpired.')\n\u001b[1;32m   1714\u001b[0m \u001b[0;34m\u001b[0m\u001b[0m\n\u001b[0;32m-> 1715\u001b[0;31m                     \u001b[0mready\u001b[0m \u001b[0;34m=\u001b[0m \u001b[0mselector\u001b[0m\u001b[0;34m.\u001b[0m\u001b[0mselect\u001b[0m\u001b[0;34m(\u001b[0m\u001b[0mtimeout\u001b[0m\u001b[0;34m)\u001b[0m\u001b[0;34m\u001b[0m\u001b[0;34m\u001b[0m\u001b[0m\n\u001b[0m\u001b[1;32m   1716\u001b[0m                     \u001b[0mself\u001b[0m\u001b[0;34m.\u001b[0m\u001b[0m_check_timeout\u001b[0m\u001b[0;34m(\u001b[0m\u001b[0mendtime\u001b[0m\u001b[0;34m,\u001b[0m \u001b[0morig_timeout\u001b[0m\u001b[0;34m,\u001b[0m \u001b[0mstdout\u001b[0m\u001b[0;34m,\u001b[0m \u001b[0mstderr\u001b[0m\u001b[0;34m)\u001b[0m\u001b[0;34m\u001b[0m\u001b[0;34m\u001b[0m\u001b[0m\n\u001b[1;32m   1717\u001b[0m \u001b[0;34m\u001b[0m\u001b[0m\n",
      "\u001b[0;32m~/anaconda3/envs/biobb_MDsetup_tutorial/lib/python3.7/selectors.py\u001b[0m in \u001b[0;36mselect\u001b[0;34m(self, timeout)\u001b[0m\n\u001b[1;32m    413\u001b[0m         \u001b[0mready\u001b[0m \u001b[0;34m=\u001b[0m \u001b[0;34m[\u001b[0m\u001b[0;34m]\u001b[0m\u001b[0;34m\u001b[0m\u001b[0;34m\u001b[0m\u001b[0m\n\u001b[1;32m    414\u001b[0m         \u001b[0;32mtry\u001b[0m\u001b[0;34m:\u001b[0m\u001b[0;34m\u001b[0m\u001b[0;34m\u001b[0m\u001b[0m\n\u001b[0;32m--> 415\u001b[0;31m             \u001b[0mfd_event_list\u001b[0m \u001b[0;34m=\u001b[0m \u001b[0mself\u001b[0m\u001b[0;34m.\u001b[0m\u001b[0m_selector\u001b[0m\u001b[0;34m.\u001b[0m\u001b[0mpoll\u001b[0m\u001b[0;34m(\u001b[0m\u001b[0mtimeout\u001b[0m\u001b[0;34m)\u001b[0m\u001b[0;34m\u001b[0m\u001b[0;34m\u001b[0m\u001b[0m\n\u001b[0m\u001b[1;32m    416\u001b[0m         \u001b[0;32mexcept\u001b[0m \u001b[0mInterruptedError\u001b[0m\u001b[0;34m:\u001b[0m\u001b[0;34m\u001b[0m\u001b[0;34m\u001b[0m\u001b[0m\n\u001b[1;32m    417\u001b[0m             \u001b[0;32mreturn\u001b[0m \u001b[0mready\u001b[0m\u001b[0;34m\u001b[0m\u001b[0;34m\u001b[0m\u001b[0m\n",
      "\u001b[0;31mKeyboardInterrupt\u001b[0m: "
     ]
    }
   ],
   "source": [
    "# Mdrun: Running minimization\n",
    "from biobb_md.gromacs.mdrun import mdrun\n",
    "\n",
    "# Create prop dict and inputs/outputs\n",
    "output_min_trr = pdbCode+'_min.trr'\n",
    "output_min_gro = pdbCode+'_min.gro'\n",
    "output_min_edr = pdbCode+'_min.edr'\n",
    "output_min_log = pdbCode+'_min.log'\n",
    "\n",
    "# Create and launch bb\n",
    "mdrun(input_tpr_path=output_gppmin_tpr, \n",
    "      output_trr_path=output_min_trr, \n",
    "      output_gro_path=output_min_gro, \n",
    "      output_edr_path=output_min_edr, \n",
    "      output_log_path=output_min_log)"
   ]
  },
  {
   "cell_type": "markdown",
   "metadata": {},
   "source": [
    "<a id=\"emStep3\"></a>\n",
    "### Step 3: Checking Energy Minimization results\n",
    "Checking **energy minimization** results. Plotting **potential energy** by time during the minimization process. "
   ]
  },
  {
   "cell_type": "code",
   "execution_count": null,
   "metadata": {},
   "outputs": [],
   "source": [
    "# GMXEnergy: Getting system energy by time  \n",
    "from biobb_analysis.gromacs.gmx_energy import gmx_energy\n",
    "\n",
    "# Create prop dict and inputs/outputs\n",
    "output_min_ene_xvg = pdbCode+'_min_ene.xvg'\n",
    "prop = {\n",
    "    'terms':  [\"Potential\"]\n",
    "}\n",
    "\n",
    "# Create and launch bb\n",
    "gmx_energy(input_energy_path=output_min_edr, \n",
    "          output_xvg_path=output_min_ene_xvg, \n",
    "          properties=prop)"
   ]
  },
  {
   "cell_type": "code",
   "execution_count": null,
   "metadata": {},
   "outputs": [],
   "source": [
    "import plotly\n",
    "import plotly.graph_objs as go\n",
    "\n",
    "#Read data from file and filter energy values higher than 1000 Kj/mol^-1\n",
    "with open(output_min_ene_xvg,'r') as energy_file:\n",
    "    x,y = map(\n",
    "        list,\n",
    "        zip(*[\n",
    "            (float(line.split()[0]),float(line.split()[1]))\n",
    "            for line in energy_file \n",
    "            if not line.startswith((\"#\",\"@\")) \n",
    "            if float(line.split()[1]) < 1000 \n",
    "        ])\n",
    "    )\n",
    "\n",
    "plotly.offline.init_notebook_mode(connected=True)\n",
    "\n",
    "fig = {\n",
    "    \"data\": [go.Scatter(x=x, y=y)],\n",
    "    \"layout\": go.Layout(title=\"Energy Minimization\",\n",
    "                        xaxis=dict(title = \"Energy Minimization Step\"),\n",
    "                        yaxis=dict(title = \"Potential Energy KJ/mol-1\")\n",
    "                       )\n",
    "}\n",
    "\n",
    "plotly.offline.iplot(fig)"
   ]
  },
  {
   "cell_type": "markdown",
   "metadata": {},
   "source": [
    "<a id=\"nvt\"></a>\n",
    "***\n",
    "## Equilibrate the system (NVT)\n",
    "Equilibrate the **protein system** in **NVT ensemble** (constant Number of particles, Volume and Temperature). Protein **heavy atoms** will be restrained using position restraining forces: movement is permitted, but only after overcoming a substantial energy penalty. The utility of position restraints is that they allow us to equilibrate our solvent around our protein, without the added variable of structural changes in the protein.\n",
    "\n",
    "- [Step 1](#eqNVTStep1): Creating portable binary run file for system equilibration\n",
    "- [Step 2](#eqNVTStep2): Equilibrate the **protein system** with **NVT** ensemble.\n",
    "- [Step 3](#eqNVTStep3): Checking **NVT Equilibration** results. Plotting **system temperature** by time during the **NVT equilibration** process. \n",
    "***\n",
    "**Building Blocks** used:\n",
    "- [Grompp](https://biobb-md.readthedocs.io/en/latest/gromacs.html#module-gromacs.grompp) from **biobb_md.gromacs.grompp** \n",
    "- [Mdrun](https://biobb-md.readthedocs.io/en/latest/gromacs.html#module-gromacs.mdrun) from **biobb_md.gromacs.mdrun** \n",
    "- [GMXEnergy](https://biobb-analysis.readthedocs.io/en/latest/gromacs.html#module-gromacs.gmx_energy) from **biobb_analysis.gromacs.gmx_energy** \n",
    "***"
   ]
  },
  {
   "cell_type": "markdown",
   "metadata": {},
   "source": [
    "<a id=\"eqNVTStep1\"></a>\n",
    "### Step 1: Creating portable binary run file for system equilibration (NVT)\n",
    "The **nvt** type of the **molecular dynamics parameters (mdp) property** contains the main default parameters to run an **NVT equilibration** with **protein restraints** (see [GROMACS mdp options](http://manual.gromacs.org/documentation/2018/user-guide/mdp-options.html)):\n",
    "\n",
    "-  Define                   = -DPOSRES\n",
    "-  integrator               = md\n",
    "-  dt                       = 0.002\n",
    "-  nsteps                   = 5000\n",
    "-  pcoupl                   = no\n",
    "-  gen_vel                  = yes\n",
    "-  gen_temp                 = 300\n",
    "-  gen_seed                 = -1\n",
    "\n",
    "In this particular example, the default parameters will be used: **md** integrator algorithm, a **step size** of **2fs**, **5,000 equilibration steps** with the protein **heavy atoms restrained**, and a temperature of **300K**.\n",
    "\n",
    "*Please note that for the sake of time this tutorial is only running 10ps of NVT equilibration, whereas in the [original example](http://www.mdtutorials.com/gmx/lysozyme/06_equil.html) the simulated time was 100ps.*"
   ]
  },
  {
   "cell_type": "code",
   "execution_count": null,
   "metadata": {},
   "outputs": [],
   "source": [
    "# Grompp: Creating portable binary run file for NVT Equilibration\n",
    "from biobb_md.gromacs.grompp import grompp\n",
    "\n",
    "# Create prop dict and inputs/outputs\n",
    "output_gppnvt_tpr = pdbCode+'_gppnvt.tpr'\n",
    "prop = {\n",
    "    'mdp':{\n",
    "        'nsteps': 5000,\n",
    "        'dt': 0.002,\n",
    "        'Define': '-DPOSRES',\n",
    "        #'tc_grps': \"DNA Water_and_ions\" # NOTE: uncomment this line if working with DNA\n",
    "    },\n",
    "    'simulation_type': 'nvt'\n",
    "}\n",
    "\n",
    "# Create and launch bb\n",
    "grompp(input_gro_path=output_min_gro, \n",
    "       input_top_zip_path=output_genion_top_zip, \n",
    "       output_tpr_path=output_gppnvt_tpr,  \n",
    "       properties=prop)"
   ]
  },
  {
   "cell_type": "markdown",
   "metadata": {},
   "source": [
    "<a id=\"eqNVTStep2\"></a>\n",
    "### Step 2: Running NVT equilibration"
   ]
  },
  {
   "cell_type": "code",
   "execution_count": null,
   "metadata": {},
   "outputs": [],
   "source": [
    "# Mdrun: Running Equilibration NVT\n",
    "from biobb_md.gromacs.mdrun import mdrun\n",
    "\n",
    "# Create prop dict and inputs/outputs\n",
    "output_nvt_trr = pdbCode+'_nvt.trr'\n",
    "output_nvt_gro = pdbCode+'_nvt.gro'\n",
    "output_nvt_edr = pdbCode+'_nvt.edr'\n",
    "output_nvt_log = pdbCode+'_nvt.log'\n",
    "output_nvt_cpt = pdbCode+'_nvt.cpt'\n",
    "\n",
    "# Create and launch bb\n",
    "mdrun(input_tpr_path=output_gppnvt_tpr, \n",
    "      output_trr_path=output_nvt_trr, \n",
    "      output_gro_path=output_nvt_gro, \n",
    "      output_edr_path=output_nvt_edr, \n",
    "      output_log_path=output_nvt_log, \n",
    "      output_cpt_path=output_nvt_cpt)"
   ]
  },
  {
   "cell_type": "markdown",
   "metadata": {},
   "source": [
    "<a id=\"eqNVTStep3\"></a>\n",
    "### Step 3: Checking NVT Equilibration results\n",
    "Checking **NVT Equilibration** results. Plotting **system temperature** by time during the NVT equilibration process. "
   ]
  },
  {
   "cell_type": "code",
   "execution_count": null,
   "metadata": {},
   "outputs": [],
   "source": [
    "# GMXEnergy: Getting system temperature by time during NVT Equilibration  \n",
    "from biobb_analysis.gromacs.gmx_energy import gmx_energy\n",
    "\n",
    "# Create prop dict and inputs/outputs\n",
    "output_nvt_temp_xvg = pdbCode+'_nvt_temp.xvg'\n",
    "prop = {\n",
    "    'terms':  [\"Temperature\"]\n",
    "}\n",
    "\n",
    "# Create and launch bb\n",
    "gmx_energy(input_energy_path=output_nvt_edr, \n",
    "          output_xvg_path=output_nvt_temp_xvg, \n",
    "          properties=prop)"
   ]
  },
  {
   "cell_type": "code",
   "execution_count": null,
   "metadata": {},
   "outputs": [],
   "source": [
    "import plotly\n",
    "import plotly.graph_objs as go\n",
    "\n",
    "# Read temperature data from file \n",
    "with open(output_nvt_temp_xvg,'r') as temperature_file:\n",
    "    x,y = map(\n",
    "        list,\n",
    "        zip(*[\n",
    "            (float(line.split()[0]),float(line.split()[1]))\n",
    "            for line in temperature_file \n",
    "            if not line.startswith((\"#\",\"@\")) \n",
    "        ])\n",
    "    )\n",
    "\n",
    "plotly.offline.init_notebook_mode(connected=True)\n",
    "\n",
    "fig = {\n",
    "    \"data\": [go.Scatter(x=x, y=y)],\n",
    "    \"layout\": go.Layout(title=\"Temperature during NVT Equilibration\",\n",
    "                        xaxis=dict(title = \"Time (ps)\"),\n",
    "                        yaxis=dict(title = \"Temperature (K)\")\n",
    "                       )\n",
    "}\n",
    "\n",
    "plotly.offline.iplot(fig)"
   ]
  },
  {
   "cell_type": "markdown",
   "metadata": {},
   "source": [
    "<a id=\"npt\"></a>\n",
    "***\n",
    "## Equilibrate the system (NPT)\n",
    "Equilibrate the **protein system** in **NPT** ensemble (constant Number of particles, Pressure and Temperature).\n",
    "- [Step 1](#eqNPTStep1): Creating portable binary run file for system equilibration\n",
    "- [Step 2](#eqNPTStep2): Equilibrate the **protein system** with **NPT** ensemble.\n",
    "- [Step 3](#eqNPTStep3): Checking **NPT Equilibration** results. Plotting **system pressure and density** by time during the **NPT equilibration** process.\n",
    "***\n",
    "**Building Blocks** used:\n",
    " - [Grompp](https://biobb-md.readthedocs.io/en/latest/gromacs.html#module-gromacs.grompp) from **biobb_md.gromacs.grompp** \n",
    " - [Mdrun](https://biobb-md.readthedocs.io/en/latest/gromacs.html#module-gromacs.mdrun) from **biobb_md.gromacs.mdrun** \n",
    " - [GMXEnergy](https://biobb-analysis.readthedocs.io/en/latest/gromacs.html#module-gromacs.gmx_energy) from **biobb_analysis.gromacs.gmx_energy** \n",
    "***"
   ]
  },
  {
   "cell_type": "markdown",
   "metadata": {},
   "source": [
    "<a id=\"eqNPTStep1\"></a>\n",
    "### Step 1: Creating portable binary run file for system equilibration (NPT)\n",
    "\n",
    "The **npt** type of the **molecular dynamics parameters (mdp) property** contains the main default parameters to run an **NPT equilibration** with **protein restraints** (see [GROMACS mdp options](http://manual.gromacs.org/documentation/2018/user-guide/mdp-options.html)):\n",
    "\n",
    "-  Define                   = -DPOSRES\n",
    "-  integrator               = md\n",
    "-  dt                       = 0.002\n",
    "-  nsteps                   = 5000\n",
    "-  pcoupl = Parrinello-Rahman\n",
    "-  pcoupltype = isotropic\n",
    "-  tau_p = 1.0\n",
    "-  ref_p = 1.0\n",
    "-  compressibility = 4.5e-5\n",
    "-  refcoord_scaling = com\n",
    "-  gen_vel = no\n",
    "\n",
    "In this particular example, the default parameters will be used: **md** integrator algorithm, a **time step** of **2fs**, **5,000 equilibration steps** with the protein **heavy atoms restrained**, and a Parrinello-Rahman **pressure coupling** algorithm.\n",
    "\n",
    "*Please note that for the sake of time this tutorial is only running 10ps of NPT equilibration, whereas in the [original example](http://www.mdtutorials.com/gmx/lysozyme/07_equil2.html) the simulated time was 100ps.*"
   ]
  },
  {
   "cell_type": "code",
   "execution_count": null,
   "metadata": {},
   "outputs": [],
   "source": [
    "# Grompp: Creating portable binary run file for NPT System Equilibration\n",
    "from biobb_md.gromacs.grompp import grompp\n",
    "\n",
    "# Create prop dict and inputs/outputs\n",
    "output_gppnpt_tpr = pdbCode+'_gppnpt.tpr'\n",
    "prop = {\n",
    "    'mdp':{\n",
    "        'nsteps':'5000',\n",
    "        #'tc_grps': \"DNA Water_and_ions\" # NOTE: uncomment this line if working with DNA\n",
    "    },\n",
    "    'simulation_type': 'npt'\n",
    "}\n",
    "\n",
    "# Create and launch bb\n",
    "grompp(input_gro_path=output_nvt_gro, \n",
    "       input_top_zip_path=output_genion_top_zip, \n",
    "       output_tpr_path=output_gppnpt_tpr, \n",
    "       input_cpt_path=output_nvt_cpt,  \n",
    "       properties=prop)"
   ]
  },
  {
   "cell_type": "markdown",
   "metadata": {},
   "source": [
    "<a id=\"eqNPTStep2\"></a>\n",
    "### Step 2: Running NPT equilibration"
   ]
  },
  {
   "cell_type": "code",
   "execution_count": null,
   "metadata": {},
   "outputs": [],
   "source": [
    "# Mdrun: Running NPT System Equilibration\n",
    "from biobb_md.gromacs.mdrun import mdrun\n",
    "\n",
    "# Create prop dict and inputs/outputs\n",
    "output_npt_trr = pdbCode+'_npt.trr'\n",
    "output_npt_gro = pdbCode+'_npt.gro'\n",
    "output_npt_edr = pdbCode+'_npt.edr'\n",
    "output_npt_log = pdbCode+'_npt.log'\n",
    "output_npt_cpt = pdbCode+'_npt.cpt'\n",
    "\n",
    "# Create and launch bb\n",
    "mdrun(input_tpr_path=output_gppnpt_tpr, \n",
    "      output_trr_path=output_npt_trr, \n",
    "      output_gro_path=output_npt_gro, \n",
    "      output_edr_path=output_npt_edr, \n",
    "      output_log_path=output_npt_log, \n",
    "      output_cpt_path=output_npt_cpt)"
   ]
  },
  {
   "cell_type": "markdown",
   "metadata": {},
   "source": [
    "<a id=\"eqNPTStep3\"></a>\n",
    "### Step 3: Checking NPT Equilibration results\n",
    "Checking **NPT Equilibration** results. Plotting **system pressure and density** by time during the **NPT equilibration** process. "
   ]
  },
  {
   "cell_type": "code",
   "execution_count": null,
   "metadata": {},
   "outputs": [],
   "source": [
    "# GMXEnergy: Getting system pressure and density by time during NPT Equilibration  \n",
    "from biobb_analysis.gromacs.gmx_energy import gmx_energy\n",
    "\n",
    "# Create prop dict and inputs/outputs\n",
    "output_npt_pd_xvg = pdbCode+'_npt_PD.xvg'\n",
    "prop = {\n",
    "    'terms':  [\"Pressure\",\"Density\"]\n",
    "}\n",
    "\n",
    "# Create and launch bb\n",
    "gmx_energy(input_energy_path=output_npt_edr, \n",
    "          output_xvg_path=output_npt_pd_xvg, \n",
    "          properties=prop)"
   ]
  },
  {
   "cell_type": "code",
   "execution_count": null,
   "metadata": {},
   "outputs": [],
   "source": [
    "import plotly\n",
    "from plotly import subplots\n",
    "import plotly.graph_objs as go\n",
    "\n",
    "# Read pressure and density data from file \n",
    "with open(output_npt_pd_xvg,'r') as pd_file:\n",
    "    x,y,z = map(\n",
    "        list,\n",
    "        zip(*[\n",
    "            (float(line.split()[0]),float(line.split()[1]),float(line.split()[2]))\n",
    "            for line in pd_file \n",
    "            if not line.startswith((\"#\",\"@\")) \n",
    "        ])\n",
    "    )\n",
    "\n",
    "plotly.offline.init_notebook_mode(connected=True)\n",
    "\n",
    "trace1 = go.Scatter(\n",
    "    x=x,y=y\n",
    ")\n",
    "trace2 = go.Scatter(\n",
    "    x=x,y=z\n",
    ")\n",
    "\n",
    "fig = subplots.make_subplots(rows=1, cols=2, print_grid=False)\n",
    "\n",
    "fig.append_trace(trace1, 1, 1)\n",
    "fig.append_trace(trace2, 1, 2)\n",
    "\n",
    "fig['layout']['xaxis1'].update(title='Time (ps)')\n",
    "fig['layout']['xaxis2'].update(title='Time (ps)')\n",
    "fig['layout']['yaxis1'].update(title='Pressure (bar)')\n",
    "fig['layout']['yaxis2'].update(title='Density (Kg*m^-3)')\n",
    "\n",
    "fig['layout'].update(title='Pressure and Density during NPT Equilibration')\n",
    "fig['layout'].update(showlegend=False)\n",
    "\n",
    "plotly.offline.iplot(fig)"
   ]
  },
  {
   "cell_type": "markdown",
   "metadata": {},
   "source": [
    "<a id=\"free\"></a>\n",
    "***\n",
    "## Free Molecular Dynamics Simulation\n",
    "Upon completion of the **two equilibration phases (NVT and NPT)**, the system is now well-equilibrated at the desired temperature and pressure. The **position restraints** can now be released. The last step of the **protein** MD setup is a short, **free MD simulation**, to ensure the robustness of the system. \n",
    "- [Step 1](#mdStep1): Creating portable binary run file to run a **free MD simulation**.\n",
    "- [Step 2](#mdStep2): Run short MD simulation of the **protein system**.\n",
    "- [Step 3](#mdStep3): Checking results for the final step of the setup process, the **free MD run**. Plotting **Root Mean Square deviation (RMSd)** and **Radius of Gyration (Rgyr)** by time during the **free MD run** step. \n",
    "***\n",
    "**Building Blocks** used:\n",
    " - [Grompp](https://biobb-md.readthedocs.io/en/latest/gromacs.html#module-gromacs.grompp) from **biobb_md.gromacs.grompp** \n",
    " - [Mdrun](https://biobb-md.readthedocs.io/en/latest/gromacs.html#module-gromacs.mdrun) from **biobb_md.gromacs.mdrun** \n",
    " - [GMXRms](https://biobb-analysis.readthedocs.io/en/latest/gromacs.html#module-gromacs.gmx_rms) from **biobb_analysis.gromacs.gmx_rms** \n",
    " - [GMXRgyr](https://biobb-analysis.readthedocs.io/en/latest/gromacs.html#module-gromacs.gmx_rgyr) from **biobb_analysis.gromacs.gmx_rgyr** \n",
    "***"
   ]
  },
  {
   "cell_type": "markdown",
   "metadata": {},
   "source": [
    "<a id=\"mdStep1\"></a>\n",
    "### Step 1: Creating portable binary run file to run a free MD simulation\n",
    "\n",
    "The **free** type of the **molecular dynamics parameters (mdp) property** contains the main default parameters to run an **free MD simulation** (see [GROMACS mdp options](http://manual.gromacs.org/documentation/2018/user-guide/mdp-options.html)):\n",
    "\n",
    "-  integrator               = md\n",
    "-  dt                       = 0.002 (ps)\n",
    "-  nsteps                   = 50000\n",
    "\n",
    "In this particular example, the default parameters will be used: **md** integrator algorithm, a **time step** of **2fs**, and a total of **50,000 md steps** (100ps).\n",
    "\n",
    "*Please note that for the sake of time this tutorial is only running 100ps of free MD, whereas in the [original example](http://www.mdtutorials.com/gmx/lysozyme/08_MD.html) the simulated time was 1ns (1000ps).*"
   ]
  },
  {
   "cell_type": "code",
   "execution_count": null,
   "metadata": {},
   "outputs": [],
   "source": [
    "# Grompp: Creating portable binary run file for mdrun\n",
    "from biobb_md.gromacs.grompp import grompp\n",
    "\n",
    "# Create prop dict and inputs/outputs\n",
    "output_gppmd_tpr = pdbCode+'_gppmd.tpr'\n",
    "prop = {\n",
    "    'mdp':{\n",
    "        'nsteps':'50000',\n",
    "        #'tc_grps': \"DNA Water_and_ions\" # NOTE: uncomment this line if working with DNA\n",
    "    },\n",
    "    'simulation_type': 'free'\n",
    "}\n",
    "\n",
    "# Create and launch bb\n",
    "grompp(input_gro_path=output_npt_gro, \n",
    "       input_top_zip_path=output_genion_top_zip, \n",
    "       output_tpr_path=output_gppmd_tpr, \n",
    "       input_cpt_path=output_npt_cpt, \n",
    "       properties=prop)"
   ]
  },
  {
   "cell_type": "markdown",
   "metadata": {},
   "source": [
    "<a id=\"mdStep2\"></a>\n",
    "### Step 2: Running short free MD simulation"
   ]
  },
  {
   "cell_type": "code",
   "execution_count": null,
   "metadata": {},
   "outputs": [],
   "source": [
    "# Mdrun: Running free dynamics\n",
    "from biobb_md.gromacs.mdrun import mdrun\n",
    "\n",
    "# Create prop dict and inputs/outputs\n",
    "output_md_trr = pdbCode+'_md.trr'\n",
    "output_md_gro = pdbCode+'_md.gro'\n",
    "output_md_edr = pdbCode+'_md.edr'\n",
    "output_md_log = pdbCode+'_md.log'\n",
    "output_md_cpt = pdbCode+'_md.cpt'\n",
    "\n",
    "# Create and launch bb\n",
    "mdrun(input_tpr_path=output_gppmd_tpr, \n",
    "      output_trr_path=output_md_trr, \n",
    "      output_gro_path=output_md_gro, \n",
    "      output_edr_path=output_md_edr, \n",
    "      output_log_path=output_md_log, \n",
    "      output_cpt_path=output_md_cpt)"
   ]
  },
  {
   "cell_type": "markdown",
   "metadata": {},
   "source": [
    "<a id=\"mdStep3\"></a>\n",
    "### Step 3: Checking free MD simulation results\n",
    "Checking results for the final step of the setup process, the **free MD run**. Plotting **Root Mean Square deviation (RMSd)** and **Radius of Gyration (Rgyr)** by time during the **free MD run** step. **RMSd** against the **experimental structure** (input structure of the pipeline) and against the **minimized and equilibrated structure** (output structure of the NPT equilibration step)."
   ]
  },
  {
   "cell_type": "code",
   "execution_count": null,
   "metadata": {},
   "outputs": [],
   "source": [
    "# GMXRms: Computing Root Mean Square deviation to analyse structural stability \n",
    "#         RMSd against minimized and equilibrated snapshot (backbone atoms)   \n",
    "\n",
    "from biobb_analysis.gromacs.gmx_rms import gmx_rms\n",
    "\n",
    "# Create prop dict and inputs/outputs\n",
    "output_rms_first = pdbCode+'_rms_first.xvg'\n",
    "prop = {\n",
    "    'selection':  'Backbone',\n",
    "    #'selection': 'non-Water'\n",
    "}\n",
    "\n",
    "# Create and launch bb\n",
    "gmx_rms(input_structure_path=output_gppmd_tpr,\n",
    "         input_traj_path=output_md_trr,\n",
    "         output_xvg_path=output_rms_first, \n",
    "          properties=prop)"
   ]
  },
  {
   "cell_type": "code",
   "execution_count": null,
   "metadata": {},
   "outputs": [],
   "source": [
    "# GMXRms: Computing Root Mean Square deviation to analyse structural stability \n",
    "#         RMSd against experimental structure (backbone atoms)   \n",
    "\n",
    "from biobb_analysis.gromacs.gmx_rms import gmx_rms\n",
    "\n",
    "# Create prop dict and inputs/outputs\n",
    "output_rms_exp = pdbCode+'_rms_exp.xvg'\n",
    "prop = {\n",
    "    'selection':  'Backbone',\n",
    "    #'selection': 'non-Water'\n",
    "}\n",
    "\n",
    "# Create and launch bb\n",
    "gmx_rms(input_structure_path=output_gppmin_tpr,\n",
    "         input_traj_path=output_md_trr,\n",
    "         output_xvg_path=output_rms_exp, \n",
    "          properties=prop)"
   ]
  },
  {
   "cell_type": "code",
   "execution_count": null,
   "metadata": {},
   "outputs": [],
   "source": [
    "import plotly\n",
    "import plotly.graph_objs as go\n",
    "\n",
    "# Read RMS vs first snapshot data from file \n",
    "with open(output_rms_first,'r') as rms_first_file:\n",
    "    x,y = map(\n",
    "        list,\n",
    "        zip(*[\n",
    "            (float(line.split()[0]),float(line.split()[1]))\n",
    "            for line in rms_first_file \n",
    "            if not line.startswith((\"#\",\"@\")) \n",
    "        ])\n",
    "    )\n",
    "\n",
    "# Read RMS vs experimental structure data from file \n",
    "with open(output_rms_exp,'r') as rms_exp_file:\n",
    "    x2,y2 = map(\n",
    "        list,\n",
    "        zip(*[\n",
    "            (float(line.split()[0]),float(line.split()[1]))\n",
    "            for line in rms_exp_file\n",
    "            if not line.startswith((\"#\",\"@\")) \n",
    "        ])\n",
    "    )\n",
    "    \n",
    "trace1 = go.Scatter(\n",
    "    x = x,\n",
    "    y = y,\n",
    "    name = 'RMSd vs first'\n",
    ")\n",
    "\n",
    "trace2 = go.Scatter(\n",
    "    x = x,\n",
    "    y = y2,\n",
    "    name = 'RMSd vs exp'\n",
    ")\n",
    "\n",
    "data = [trace1, trace2]\n",
    "\n",
    "plotly.offline.init_notebook_mode(connected=True)\n",
    "\n",
    "fig = {\n",
    "    \"data\": data,\n",
    "    \"layout\": go.Layout(title=\"RMSd during free MD Simulation\",\n",
    "                        xaxis=dict(title = \"Time (ps)\"),\n",
    "                        yaxis=dict(title = \"RMSd (nm)\")\n",
    "                       )\n",
    "}\n",
    "\n",
    "plotly.offline.iplot(fig)\n"
   ]
  },
  {
   "cell_type": "code",
   "execution_count": null,
   "metadata": {},
   "outputs": [],
   "source": [
    "# GMXRgyr: Computing Radius of Gyration to measure the protein compactness during the free MD simulation \n",
    "\n",
    "from biobb_analysis.gromacs.gmx_rgyr import gmx_rgyr\n",
    "\n",
    "# Create prop dict and inputs/outputs\n",
    "output_rgyr = pdbCode+'_rgyr.xvg'\n",
    "prop = {\n",
    "    'selection':  'Backbone'\n",
    "}\n",
    "\n",
    "# Create and launch bb\n",
    "gmx_rgyr(input_structure_path=output_gppmin_tpr,\n",
    "         input_traj_path=output_md_trr,\n",
    "         output_xvg_path=output_rgyr, \n",
    "          properties=prop)"
   ]
  },
  {
   "cell_type": "code",
   "execution_count": null,
   "metadata": {},
   "outputs": [],
   "source": [
    "import plotly\n",
    "import plotly.graph_objs as go\n",
    "\n",
    "# Read Rgyr data from file \n",
    "with open(output_rgyr,'r') as rgyr_file:\n",
    "    x,y = map(\n",
    "        list,\n",
    "        zip(*[\n",
    "            (float(line.split()[0]),float(line.split()[1]))\n",
    "            for line in rgyr_file \n",
    "            if not line.startswith((\"#\",\"@\")) \n",
    "        ])\n",
    "    )\n",
    "\n",
    "plotly.offline.init_notebook_mode(connected=True)\n",
    "\n",
    "fig = {\n",
    "    \"data\": [go.Scatter(x=x, y=y)],\n",
    "    \"layout\": go.Layout(title=\"Radius of Gyration\",\n",
    "                        xaxis=dict(title = \"Time (ps)\"),\n",
    "                        yaxis=dict(title = \"Rgyr (nm)\")\n",
    "                       )\n",
    "}\n",
    "\n",
    "plotly.offline.iplot(fig)"
   ]
  },
  {
   "cell_type": "markdown",
   "metadata": {},
   "source": [
    "<a id=\"post\"></a>\n",
    "***\n",
    "## Post-processing and Visualizing resulting 3D trajectory\n",
    "Post-processing and Visualizing the **protein system** MD setup **resulting trajectory** using **NGL**\n",
    "- [Step 1](#ppStep1): *Imaging* the resulting trajectory, **stripping out water molecules and ions** and **correcting periodicity issues**.\n",
    "- [Step 2](#ppStep2): Generating a *dry* structure, **removing water molecules and ions** from the final snapshot of the MD setup pipeline.\n",
    "- [Step 3](#ppStep3): Visualizing the *imaged* trajectory using the *dry* structure as a **topology**. \n",
    "***\n",
    "**Building Blocks** used:\n",
    " - [GMXImage](https://biobb-analysis.readthedocs.io/en/latest/gromacs.html#module-gromacs.gmx_image) from **biobb_analysis.gromacs.gmx_image** \n",
    " - [GMXTrjConvStr](https://biobb-analysis.readthedocs.io/en/latest/gromacs.html#module-gromacs.gmx_trjconv_str) from **biobb_analysis.gromacs.gmx_trjconv_str** \n",
    "***"
   ]
  },
  {
   "cell_type": "markdown",
   "metadata": {},
   "source": [
    "<a id=\"ppStep1\"></a>\n",
    "### Step 1: *Imaging* the resulting trajectory.\n",
    "Stripping out **water molecules and ions** and **correcting periodicity issues**  "
   ]
  },
  {
   "cell_type": "code",
   "execution_count": null,
   "metadata": {},
   "outputs": [],
   "source": [
    "# GMXImage: \"Imaging\" the resulting trajectory\n",
    "#           Removing water molecules and ions from the resulting structure\n",
    "from biobb_analysis.gromacs.gmx_image import gmx_image\n",
    "\n",
    "# Create prop dict and inputs/outputs\n",
    "output_imaged_traj = pdbCode+'_imaged_traj.trr'\n",
    "prop = {\n",
    "    'center_selection':  'Protein',\n",
    "    'output_selection': 'Protein',\n",
    "    'pbc' : 'mol',\n",
    "    'center' : True\n",
    "}\n",
    "\n",
    "# Create and launch bb\n",
    "gmx_image(input_traj_path=output_md_trr,\n",
    "         input_top_path=output_gppmd_tpr,\n",
    "         output_traj_path=output_imaged_traj, \n",
    "          properties=prop)"
   ]
  },
  {
   "cell_type": "markdown",
   "metadata": {},
   "source": [
    "<a id=\"ppStep2\"></a>\n",
    "### Step 2: Generating the output *dry* structure.\n",
    "**Removing water molecules and ions** from the resulting structure"
   ]
  },
  {
   "cell_type": "code",
   "execution_count": null,
   "metadata": {},
   "outputs": [],
   "source": [
    "# GMXTrjConvStr: Converting and/or manipulating a structure\n",
    "#                Removing water molecules and ions from the resulting structure\n",
    "#                The \"dry\" structure will be used as a topology to visualize \n",
    "#                the \"imaged dry\" trajectory generated in the previous step.\n",
    "from biobb_analysis.gromacs.gmx_trjconv_str import gmx_trjconv_str\n",
    "\n",
    "# Create prop dict and inputs/outputs\n",
    "output_dry_gro = pdbCode+'_md_dry.gro'\n",
    "prop = {\n",
    "    'selection':  'Protein'\n",
    "}\n",
    "\n",
    "# Create and launch bb\n",
    "gmx_trjconv_str(input_structure_path=output_md_gro,\n",
    "         input_top_path=output_gppmd_tpr,\n",
    "         output_str_path=output_dry_gro, \n",
    "          properties=prop)"
   ]
  },
  {
   "cell_type": "markdown",
   "metadata": {},
   "source": [
    "<a id=\"ppStep3\"></a>\n",
    "### Step 3: Visualizing the generated dehydrated trajectory.\n",
    "Using the **imaged trajectory** (output of the [Post-processing step 1](#ppStep1)) with the **dry structure** (output of the [Post-processing step 2](#ppStep2)) as a topology."
   ]
  },
  {
   "cell_type": "code",
   "execution_count": null,
   "metadata": {},
   "outputs": [],
   "source": [
    "# Show trajectory\n",
    "view = nglview.show_simpletraj(nglview.SimpletrajTrajectory(output_imaged_traj, output_dry_gro), gui=True)\n",
    "view"
   ]
  },
  {
   "cell_type": "markdown",
   "metadata": {
    "variables": {
     "output_genion_top_zip": "1AKI_genion_top.zip",
     "output_gppmd_tpr": "1AKI_gppmd.tpr",
     "output_md_cpt": "1AKI_md.cpt",
     "output_md_gro": "1AKI_md.gro",
     "output_md_trr": "1AKI_md.trr",
     "output_rgyr": "1AKI_rgyr.xvg",
     "output_rms_exp": "1AKI_rms_exp.xvg",
     "output_rms_first": "1AKI_rms_first.xvg"
    }
   },
   "source": [
    "<a id=\"output\"></a>\n",
    "## Output files\n",
    "\n",
    "Important **Output files** generated:\n",
    " - {{output_md_gro}}: **Final structure** (snapshot) of the MD setup protocol.\n",
    " - {{output_md_trr}}: **Final trajectory** of the MD setup protocol.\n",
    " - {{output_md_cpt}}: **Final checkpoint file**, with information about the state of the simulation. It can be used to **restart** or **continue** a MD simulation.\n",
    " - {{output_gppmd_tpr}}: **Final tpr file**, GROMACS portable binary run input file. This file contains the starting structure of the **MD setup free MD simulation step**, together with the molecular topology and all the simulation parameters. It can be used to **extend** the simulation.\n",
    " - {{output_genion_top_zip}}: **Final topology** of the MD system. It is a compressed zip file including a **topology file** (.top) and a set of auxiliar **include topology** files (.itp).\n",
    "\n",
    "**Analysis** (MD setup check) output files generated:\n",
    " - {{output_rms_first}}: **Root Mean Square deviation (RMSd)** against **minimized and equilibrated structure** of the final **free MD run step**.\n",
    " - {{output_rms_exp}}: **Root Mean Square deviation (RMSd)** against **experimental structure** of the final **free MD run step**.\n",
    " - {{output_rgyr}}: **Radius of Gyration** of the final **free MD run step** of the **setup pipeline**.\n",
    " "
   ]
  },
  {
   "cell_type": "markdown",
   "metadata": {},
   "source": [
    "***\n",
    "<a id=\"questions\"></a>\n",
    "\n",
    "## Questions & Comments\n",
    "\n",
    "Questions, issues, suggestions and comments are really welcome!\n",
    "\n",
    "* GitHub issues:\n",
    "    * [https://github.com/bioexcel/biobb](https://github.com/bioexcel/biobb)\n",
    "\n",
    "* BioExcel forum:\n",
    "    * [https://ask.bioexcel.eu/c/BioExcel-Building-Blocks-library](https://ask.bioexcel.eu/c/BioExcel-Building-Blocks-library)\n"
   ]
  }
 ],
 "metadata": {
  "kernelspec": {
   "display_name": "Python 3 (ipykernel)",
   "language": "python",
   "name": "python3"
  },
  "language_info": {
   "codemirror_mode": {
    "name": "ipython",
    "version": 3
   },
   "file_extension": ".py",
   "mimetype": "text/x-python",
   "name": "python",
   "nbconvert_exporter": "python",
   "pygments_lexer": "ipython3",
   "version": "3.7.12"
  }
 },
 "nbformat": 4,
 "nbformat_minor": 2
}
